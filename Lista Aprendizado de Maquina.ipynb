{
 "cells": [
  {
   "cell_type": "code",
   "execution_count": 1,
   "metadata": {
    "collapsed": false
   },
   "outputs": [],
   "source": [
    "import numpy as np\n",
    "import pandas as pd\n",
    "import matplotlib.pyplot as plt\n",
    "\n",
    "from sympy import *\n",
    "from sympy.mpmath import nsum, expm\n",
    "from sympy.matrices import *\n",
    "from sympy.plotting.plot import *\n",
    "from sympy.functions.combinatorial.numbers import nC\n",
    "\n",
    "from scipy.stats import multivariate_normal\n",
    "from copy import deepcopy\n",
    "from IPython.display import display, Math\n",
    "\n",
    "init_printing(use_latex=\"mathjax\")\n",
    "\n",
    "np.set_printoptions(precision=4, suppress=True)\n",
    "%matplotlib inline"
   ]
  },
  {
   "cell_type": "markdown",
   "metadata": {},
   "source": [
    "#Questão 1"
   ]
  },
  {
   "cell_type": "markdown",
   "metadata": {},
   "source": [
    "## A"
   ]
  },
  {
   "cell_type": "markdown",
   "metadata": {},
   "source": [
    "Conforme a equação 2.7 (página 30) de Theodoridis."
   ]
  },
  {
   "cell_type": "code",
   "execution_count": 2,
   "metadata": {
    "collapsed": false
   },
   "outputs": [
    {
     "data": {
      "text/latex": [
       "$$p(w|x) = \\frac{e^{m} \\left(\\sqrt{\\left\\lvert{\\Sigma}\\right\\rvert}\\right)^{-1}}{\\sqrt{\\left(2 \\pi\\right)^{l}}}$$"
      ],
      "text/plain": [
       "<IPython.core.display.Math object>"
      ]
     },
     "metadata": {},
     "output_type": "display_data"
    },
    {
     "data": {
      "text/latex": [
       "$$m = -0.5 \\left(-1 \\mu^T + x^T\\right) \\Sigma^{-1} \\left(-1 \\mu + x\\right)$$"
      ],
      "text/plain": [
       "<IPython.core.display.Math object>"
      ]
     },
     "metadata": {},
     "output_type": "display_data"
    }
   ],
   "source": [
    "l = symbols('l')\n",
    "x   = MatrixSymbol('x', 2, 1)\n",
    "mi  = MatrixSymbol('\\\\mu', 2, 1)\n",
    "cov = MatrixSymbol('\\\\Sigma', 2, 2)\n",
    "\n",
    "m = symbols('m')\n",
    "\n",
    "func1 = - 1/2 *(x - mi).T * cov.I * (x - mi)\n",
    "func = (1 / (root( pow(2*pi,l), 2) * sqrt(det(cov)))) * exp(m)\n",
    "\n",
    "display(Math(r'p(w|x) = ' + latex(func)))\n",
    "display(Math(r'm = ' + latex(func1)))\n"
   ]
  },
  {
   "cell_type": "markdown",
   "metadata": {},
   "source": [
    "Sabendo que nesse caso a covariância das duas "
   ]
  },
  {
   "cell_type": "markdown",
   "metadata": {},
   "source": [
    "Podemos então substituir os valores dados nessa equação:"
   ]
  },
  {
   "cell_type": "code",
   "execution_count": 3,
   "metadata": {
    "collapsed": false
   },
   "outputs": [
    {
     "data": {
      "text/latex": [
       "$$p(w_1|x) = \\frac{e^{m_{1}}}{\\sqrt{\\left(2 \\pi\\right)^{l}}} \\frac{1}{\\sqrt{\\left\\lvert{\\left[\\begin{matrix}0.2 & 0\\\\0 & 0.2\\end{matrix}\\right]}\\right\\rvert}}$$"
      ],
      "text/plain": [
       "<IPython.core.display.Math object>"
      ]
     },
     "metadata": {},
     "output_type": "display_data"
    },
    {
     "data": {
      "text/latex": [
       "$$m1 = -0.5 \\left(-1 \\left(\\left[\\begin{matrix}0\\\\0\\end{matrix}\\right]\\right)^T + x^T\\right) \\left(\\left[\\begin{matrix}0.2 & 0\\\\0 & 0.2\\end{matrix}\\right]\\right)^{-1} \\left(-1 \\left[\\begin{matrix}0\\\\0\\end{matrix}\\right] + x\\right)$$"
      ],
      "text/plain": [
       "<IPython.core.display.Math object>"
      ]
     },
     "metadata": {},
     "output_type": "display_data"
    },
    {
     "data": {
      "text/latex": [
       "$$p(w_2|x) = \\frac{e^{m_{2}}}{\\sqrt{\\left(2 \\pi\\right)^{l}}} \\frac{1}{\\sqrt{\\left\\lvert{\\left[\\begin{matrix}0.2 & 0\\\\0 & 0.2\\end{matrix}\\right]}\\right\\rvert}}$$"
      ],
      "text/plain": [
       "<IPython.core.display.Math object>"
      ]
     },
     "metadata": {},
     "output_type": "display_data"
    }
   ],
   "source": [
    "mi1 = Matrix([[0] ,[0]])\n",
    "mi2 = Matrix([[0.5], [1]])\n",
    "cov1 = cov2 = Matrix([[0.2, 0], [0, 0.2]])\n",
    "m1, m2 = symbols(\"m_1 m_2\")\n",
    "\n",
    "pcw1 = func.subs(mi,mi1).subs(cov,cov1).subs(m, m1)\n",
    "m1 = func1.subs(mi,mi1).subs(cov,cov1)\n",
    "pcw2 = func.subs(mi,mi2).subs(cov,cov2).subs(m, m2)\n",
    "m2 = func1.subs(mi,mi2).subs(cov,cov2)\n",
    "\n",
    "display(Math(r'p(w_1|x) = ' + latex(pcw1)))\n",
    "display(Math(r'm1 = ' + latex(m1)))\n",
    "display(Math(r'p(w_2|x) = ' + latex(pcw2)))"
   ]
  },
  {
   "cell_type": "markdown",
   "metadata": {},
   "source": [
    "De forma que nosso classificador passa a ser: $x \\in w_2, if, p(w_2|x) > p(w_1|x)$"
   ]
  },
  {
   "cell_type": "markdown",
   "metadata": {
    "collapsed": false
   },
   "source": [
    "## B"
   ]
  },
  {
   "cell_type": "markdown",
   "metadata": {},
   "source": [
    "Conforme equação 2.20, na página 18 do livros de Theodoridis:\n",
    "$x \\in w_2, if, p(x|w_2) > p(x|w_1)\\frac{\\lambda_{12}}\\lambda_{21}$ podemos extender nosso resultado anterior da seguinte forma: $x \\in w_2, if, p(x|w_2) > p(x|w_1)\\frac{0.5}1$."
   ]
  },
  {
   "cell_type": "markdown",
   "metadata": {},
   "source": [
    "#Questão 2\n",
    "\n",
    "#A"
   ]
  },
  {
   "cell_type": "code",
   "execution_count": 4,
   "metadata": {
    "collapsed": false
   },
   "outputs": [
    {
     "name": "stderr",
     "output_type": "stream",
     "text": [
      "d:\\Miniconda3\\lib\\site-packages\\sympy\\plotting\\experimental_lambdify.py:165: UserWarning: The evaluation of the expression is problematic. We are trying a failback method that may still work. Please report this as a bug.\n",
      "  warnings.warn('The evaluation of the expression is'\n"
     ]
    },
    {
     "data": {
      "image/png": "[encoded data removed]",
      "text/plain": [
       "<matplotlib.figure.Figure at 0xa914e10>"
      ]
     },
     "metadata": {},
     "output_type": "display_data"
    },
    {
     "data": {
      "text/plain": [
       "<sympy.plotting.plot.Plot at 0x58b6128>"
      ]
     },
     "execution_count": 4,
     "metadata": {},
     "output_type": "execute_result"
    }
   ],
   "source": [
    "x, y = symbols('x y')\n",
    "pa = Piecewise((1/9, And(1<= x, x <= 4, 1<= y, y <= 4)), (0, True))\n",
    "pb = Piecewise((1,   And(2<= x, x <= 3, 2<= y, y <= 3)), (0, True))\n",
    "\n",
    "plot3d(pa, pb, (x, 0, 5), (y, 0, 5), nb_of_points_x=50, nb_of_points_y=50)"
   ]
  },
  {
   "cell_type": "markdown",
   "metadata": {},
   "source": [
    "#B\n",
    "Podemos classificar os pontos dados de forma simples, assumindo que todos os pontos vão estar dentro do intervalo $1 <= x <= 4$ e $1 <= y <= 4$, podemos dizer que todos os pontos que estiverem no intervalo $2 <= x <= 3$ e $2 <= y <= 3$ são da classe 2, e os demais pontos da classe 1."
   ]
  },
  {
   "cell_type": "markdown",
   "metadata": {},
   "source": [
    "#Questão 3\n",
    "##A\n",
    "Vamos primeiro definir a formula f, sabendo que $f(x) = 0$ é a fronteira de decisão, ou seja, o hiper plano que divide as classes."
   ]
  },
  {
   "cell_type": "code",
   "execution_count": 5,
   "metadata": {
    "collapsed": false
   },
   "outputs": [
    {
     "data": {
      "text/latex": [
       "$$f = \\omega^T x + \\omega_{0}$$"
      ],
      "text/plain": [
       "<IPython.core.display.Math object>"
      ]
     },
     "execution_count": 5,
     "metadata": {},
     "output_type": "execute_result"
    }
   ],
   "source": [
    "w = MatrixSymbol(\"\\\\omega\", 3, 1)\n",
    "x = MatrixSymbol(\"x\", 3, 1)\n",
    "w0 = MatrixSymbol(\"\\\\omega_0\", 1, 1)\n",
    "f = w.T * x + w0\n",
    "Math('f = '+ latex(f))"
   ]
  },
  {
   "cell_type": "markdown",
   "metadata": {},
   "source": [
    "Dessa forma, para verificar que x1 e x2, estão no mesmo lado da fronteira (pertencem à mesma classe), basta substituirmos os valores dados na formula."
   ]
  },
  {
   "cell_type": "code",
   "execution_count": 6,
   "metadata": {
    "collapsed": false
   },
   "outputs": [
    {
     "name": "stdout",
     "output_type": "stream",
     "text": [
      "f(x1) = 1.000\n",
      "f(x2) = 1.000\n"
     ]
    }
   ],
   "source": [
    "x1 = Matrix([1, -1, 0.5])\n",
    "x2 = Matrix([0.5, -1.5, 0.5])\n",
    "w_ = Matrix([0.5, -0.5, 0.5])\n",
    "w0_ = Matrix([-1/4])\n",
    "\n",
    "f1 = Matrix(f.subs(x,x1).subs(w, w_).subs(w0, w0_)).evalf()[0]\n",
    "f2 = Matrix(f.subs(x,x2).subs(w, w_).subs(w0, w0_)).evalf()[0]\n",
    "print(\"f(x1) = {:.3f}\".format(f1))\n",
    "print(\"f(x2) = {:.3f}\".format(f2))"
   ]
  },
  {
   "cell_type": "markdown",
   "metadata": {},
   "source": [
    "Como em ambos os casos conseguimos valores positivos, concluímos que eles estão do mesmo lado da fronteira.\n",
    "\n",
    "##B\n",
    "Para isso devemos calcular onde está a fronteira de decisão. Para isso temos que: \n",
    "$r = y \\frac{{w}^{T}{x} + b}{\\vert{w}\\vert}$."
   ]
  },
  {
   "cell_type": "code",
   "execution_count": 7,
   "metadata": {
    "collapsed": false
   },
   "outputs": [
    {
     "name": "stdout",
     "output_type": "stream",
     "text": [
      "Distancia de x1 à fornteira = 1.155\n",
      "Distancia de x1 à fronteira = 1.155\n"
     ]
    }
   ],
   "source": [
    "#Conforme http://nlp.stanford.edu/IR-book/html/htmledition/support-vector-machines-the-linearly-separable-case-1.html , eq 168\n",
    "\n",
    "r1 = 1 * (w_.T * x1 + w0_) / w_.norm()\n",
    "r2 = 1 * (w_.T * x2 + w0_) / w_.norm()\n",
    "\n",
    "print(\"Distancia de x1 à fornteira = {:.3f}\".format(r1[0]))\n",
    "print(\"Distancia de x1 à fronteira = {:.3f}\".format(r2[0]))\n"
   ]
  },
  {
   "cell_type": "markdown",
   "metadata": {},
   "source": [
    "#Questão 4"
   ]
  },
  {
   "cell_type": "markdown",
   "metadata": {},
   "source": [
    "Em primeiro lugar temos de calcular o valor de $p(c_1|x)$, fazemos isso sabendo que $p(c_1|x) + p(c_2|x) = 1$:"
   ]
  },
  {
   "cell_type": "code",
   "execution_count": 8,
   "metadata": {
    "collapsed": false
   },
   "outputs": [
    {
     "data": {
      "text/latex": [
       "$$p(c_1|x) = 0.818$$"
      ],
      "text/plain": [
       "<IPython.core.display.Math object>"
      ]
     },
     "metadata": {},
     "output_type": "display_data"
    },
    {
     "data": {
      "text/latex": [
       "$$p(c_2|x) = 0.182$$"
      ],
      "text/plain": [
       "<IPython.core.display.Math object>"
      ]
     },
     "metadata": {},
     "output_type": "display_data"
    }
   ],
   "source": [
    "pc1x = symbols('pc1x')\n",
    "px = symbols('px')\n",
    "pc1 = 0.6\n",
    "pc2 = 0.4\n",
    "pxc1 = pc1x * px / pc1\n",
    "pxc2 = pxc1 / 3\n",
    "pc2x = pxc2 * pc2 / px\n",
    "#Resolve a equacao pc1x + pc2x = 1 para pc1x\n",
    "res = solve(pc1x + pc2x - 1, pc1x)[0]\n",
    "res_pc2 = 1 - res\n",
    "display(Math('p(c_1|x) = {:.3f}'.format(res)))\n",
    "display((Math('p(c_2|x) = {:.3f}'.format(res_pc2))))"
   ]
  },
  {
   "cell_type": "markdown",
   "metadata": {},
   "source": [
    "Com base nisso, já podemos inferir que, dado um único padrão, a probabilidade de ele ser da classe C1 é igual ao valor acima.\n",
    "Para calcular a probabilidade de ele ocorrer duas ou três vezes (maioria para os casos k = 3 e k = 5, respectivamente) é:"
   ]
  },
  {
   "cell_type": "code",
   "execution_count": 9,
   "metadata": {
    "collapsed": false
   },
   "outputs": [
    {
     "name": "stdout",
     "output_type": "stream",
     "text": [
      "Para K=1 -> 0.818\n",
      "Para k=3 -> 0.913\n",
      "Para k=5 -> 0.955\n"
     ]
    }
   ],
   "source": [
    "#http://vassarstats.net/textbook/ch5apx.html\n",
    "#Cada caso é uma distribuição binominal\n",
    "def probAtLeast(n, k, p):\n",
    "    '''Calcula a probabilidade de, dadas N amostrar, um evento com probabilidade p\n",
    "    ocorrer \"pelo menos\" k  vezes (ou seja, ocorrer entre K e N vezes, inclusive)    \n",
    "    '''\n",
    "    res = 0\n",
    "    #The end of range is excludent\n",
    "    for i in range(k, n+1):        \n",
    "        res +=  nC(n,i) * p ** i * (1-p) ** (n - i)\n",
    "    return res\n",
    "    \n",
    "print('Para K=1 -> {:.3f}'.format(probAtLeast(1, 1, res)))\n",
    "print('Para k=3 -> {:.3f}'.format(probAtLeast(3, 2, res)))\n",
    "print('Para k=5 -> {:.3f}'.format(probAtLeast(5, 3, res)))"
   ]
  },
  {
   "cell_type": "markdown",
   "metadata": {},
   "source": [
    "#Questão 5"
   ]
  },
  {
   "cell_type": "markdown",
   "metadata": {},
   "source": [
    "##A\n",
    "Inicialmente vamos considerar que pontos mais perdo de x = (0.5, -1) são (0.5, -0.9) e (0.4, -0.6) para a classe1 e (0.1, -0.8) e (0.3, -0.7) para a classe 2.\n",
    "\n",
    "Dessa forma, para calcularmos as pdf's do ponto (0.5, -1) fazemos conforme o algoritmo abaixo."
   ]
  },
  {
   "cell_type": "code",
   "execution_count": 10,
   "metadata": {
    "collapsed": false
   },
   "outputs": [
    {
     "name": "stdout",
     "output_type": "stream",
     "text": [
      "p(x|c1) = 0.0352\n",
      "p(x|c2) = 0.0540\n"
     ]
    }
   ],
   "source": [
    "def distancia(x, y):\n",
    "    dist1 = np.power(x[0] - y[0],2)\n",
    "    dist2 = np.power(x[1] - y[1],2)\n",
    "    res = np.sqrt(dist1 + dist2)\n",
    "    return res\n",
    "\n",
    "c1 = np.asarray([[0.5, -0.9], [0.355, -0.6]])\n",
    "c2 = np.asarray([[0.2, -0.9], [0.333, -0.7]])\n",
    "\n",
    "x = [0.5, -1]\n",
    "k = 2\n",
    "\n",
    "distC1 = []\n",
    "distC2 = []\n",
    "\n",
    "#Calcule a distancia entre X e os pontos mais próximos dele em cada classe\n",
    "for i in range(k):\n",
    "    distC1.append(distancia(x, c1[i]))\n",
    "    distC2.append(distancia(x, c2[i]))\n",
    "    \n",
    "diametro1 = np.abs(c1[np.argmax(distC1)]) - np.abs(x)\n",
    "diametro2 = np.abs(c2[np.argmax(distC2)]) - np.abs(x)\n",
    "\n",
    "#eleva os elementos ao quadrado, soma elas, e tira a raiz\n",
    "r1 = np.sqrt(np.square(diametro1).sum())\n",
    "r2 = np.sqrt(np.square(diametro2).sum())\n",
    "\n",
    "v1 = 3.14 * r1 ** 2\n",
    "v2 = 3.14 * r2 ** 2\n",
    "\n",
    "p1 = 2 / (100 * v1)\n",
    "p2 = 2 / (100 * v2)\n",
    "\n",
    "print(\"p(x|c1) = {:.4f}\".format(p1))\n",
    "print(\"p(x|c2) = {:.4f}\".format(p2))\n"
   ]
  },
  {
   "cell_type": "markdown",
   "metadata": {},
   "source": [
    "##B\n",
    "Nesse caso temos de usar a equação 2.27 do livro de theodoridis na página 21. (Não podemos usar a mesma equação da primeira questão pois as covariâncias são diferentes)."
   ]
  },
  {
   "cell_type": "code",
   "execution_count": 11,
   "metadata": {
    "collapsed": false
   },
   "outputs": [
    {
     "data": {
      "text/latex": [
       "$$p(w|x) = \\frac{e^{m} \\left(\\sqrt{\\left\\lvert{\\Sigma}\\right\\rvert}\\right)^{-1}}{\\sqrt{\\left(2 \\pi\\right)^{l}}}$$"
      ],
      "text/plain": [
       "<IPython.core.display.Math object>"
      ]
     },
     "metadata": {},
     "output_type": "display_data"
    },
    {
     "data": {
      "text/latex": [
       "$$ em = -0.5 \\left(-1 \\mu^T + x^T\\right) \\Sigma^{-1} \\left(-1 \\mu + x\\right)$$"
      ],
      "text/plain": [
       "<IPython.core.display.Math object>"
      ]
     },
     "metadata": {},
     "output_type": "display_data"
    },
    {
     "data": {
      "text/latex": [
       "$$p(w_1|x) = 0.0356422986197066$$"
      ],
      "text/plain": [
       "<IPython.core.display.Math object>"
      ]
     },
     "metadata": {},
     "output_type": "display_data"
    },
    {
     "data": {
      "text/latex": [
       "$$p(w_2|x) = 0.111465959552939$$"
      ],
      "text/plain": [
       "<IPython.core.display.Math object>"
      ]
     },
     "metadata": {},
     "output_type": "display_data"
    }
   ],
   "source": [
    "l = symbols('l')\n",
    "x   = MatrixSymbol('x', 2, 1)\n",
    "mi  = MatrixSymbol('\\\\mu', 2, 1)\n",
    "cov = MatrixSymbol('\\\\Sigma', 2, 2)\n",
    "\n",
    "m = symbols('m')\n",
    "\n",
    "func1 = - 1/2 *(x - mi).T * cov.I * (x - mi)\n",
    "func = (1 / (root( pow(2*pi,l), 2) * sqrt(det(cov)))) * exp(m)\n",
    "\n",
    "display(Math(r'p(w|x) = ' + latex(func)))\n",
    "display(Math(r' em = ' + latex(func1)))\n",
    "\n",
    "mi1 = mi2 = Matrix([[0] ,[0]])\n",
    "cov1 = Matrix([[0.5,  0.25], [ 0.25, 0.5]])\n",
    "cov2 = Matrix([[1.0, -0.50], [-0.50, 1.0]])\n",
    "x_ = Matrix([ [0.5], [-1] ])\n",
    "\n",
    "pcw1 = Matrix(func1.subs(x, x_).subs(mi, mi1).subs(cov, cov1))[0]\n",
    "pcw1 = func.subs(l, 2).subs(cov, cov1).subs(m, pcw1)\n",
    "pcw1 = pcw1.doit().evalf()\n",
    "\n",
    "pcw2 = Matrix(func1.subs(x, x_).subs(mi, mi2).subs(cov, cov2))[0]\n",
    "pcw2 = func.subs(l, 2).subs(cov, cov2).subs(m, pcw2)\n",
    "pcw2 = pcw2.doit().evalf()\n",
    "\n",
    "display(Math(r'p(w_1|x) = ' + latex(pcw1)))\n",
    "display(Math(r'p(w_2|x) = ' + latex(pcw2)))\n",
    "\n",
    "#Para confirmar o valor encontrado\n",
    "#print(multivariate_normal(mean=[0,0], cov=[[0.5,  0.25], [ 0.25, 0.5]]).pdf([ 0.5, -1 ]))\n",
    "#print(multivariate_normal(mean=[0,0], cov=[[1.0, -0.50], [-0.50, 1.0]]).pdf([ 0.5, -1 ]))"
   ]
  },
  {
   "cell_type": "markdown",
   "metadata": {},
   "source": [
    "##C\n",
    "Usando um classificador bayesiano, ele classificaria o ponto X como sendo da classe 1, se usassemos a PDF estimada com pelo K means, e como sendo da classe 2, usando os valores dados no item B.\n",
    "\n",
    "Nesse caso é preferível usar os dados do item B, pois eles refletem os valores reais dos dados, enquanto que a PDF calculada no item A é apenas uma aproximação.\n",
    "\n",
    "A PDF vai tender a ser igual ao do item B, quanto mais pontos considerarmos (k = 100, por exemplo), conforme explicado na página 57 de Theodoridis."
   ]
  },
  {
   "cell_type": "markdown",
   "metadata": {},
   "source": [
    "#Questão 6"
   ]
  },
  {
   "cell_type": "markdown",
   "metadata": {},
   "source": [
    "As funções de ativação que temos são:"
   ]
  },
  {
   "cell_type": "code",
   "execution_count": 12,
   "metadata": {
    "collapsed": false
   },
   "outputs": [
    {
     "data": {
      "text/latex": [
       "$$a = \\frac{1}{1 + e^{- \\beta x}}$$"
      ],
      "text/plain": [
       "<IPython.core.display.Math object>"
      ]
     },
     "metadata": {},
     "output_type": "display_data"
    },
    {
     "data": {
      "text/latex": [
       "$$b = \\frac{1}{\\sqrt{\\beta + x^{2}}}$$"
      ],
      "text/plain": [
       "<IPython.core.display.Math object>"
      ]
     },
     "metadata": {},
     "output_type": "display_data"
    }
   ],
   "source": [
    "x, y, B = symbols('x y \\\\beta')\n",
    "eqa = 1 / (1 + exp(-B*x))\n",
    "eqb = 1 / (sqrt(x ** 2 + B))\n",
    "\n",
    "display(Math(r'a = ' + latex(eqa)))\n",
    "display(Math(r'b = ' + latex(eqb)))"
   ]
  },
  {
   "cell_type": "markdown",
   "metadata": {},
   "source": [
    "A função de custo é dada pela derivada da função de ativação."
   ]
  },
  {
   "cell_type": "code",
   "execution_count": 13,
   "metadata": {
    "collapsed": false
   },
   "outputs": [
    {
     "data": {
      "text/latex": [
       "$$\\frac{da}{dx} = \\frac{\\beta e^{- \\beta x}}{\\left(1 + e^{- \\beta x}\\right)^{2}}$$"
      ],
      "text/plain": [
       "<IPython.core.display.Math object>"
      ]
     },
     "metadata": {},
     "output_type": "display_data"
    },
    {
     "data": {
      "text/latex": [
       "$$\\frac{db}{dx} = - \\frac{x}{\\left(\\beta + x^{2}\\right)^{\\frac{3}{2}}}$$"
      ],
      "text/plain": [
       "<IPython.core.display.Math object>"
      ]
     },
     "metadata": {},
     "output_type": "display_data"
    }
   ],
   "source": [
    "display(Math(r'\\frac{da}{dx} = ' + latex(eqa.diff(x))))\n",
    "display(Math(r'\\frac{db}{dx} = ' + latex(eqb.diff(x))))"
   ]
  },
  {
   "cell_type": "markdown",
   "metadata": {},
   "source": [
    "Como queremos que a função de custo seja dada em função da saída do neurônio (ou seja, da própria função de ativação):"
   ]
  },
  {
   "cell_type": "code",
   "execution_count": 14,
   "metadata": {
    "collapsed": false
   },
   "outputs": [
    {
     "data": {
      "text/latex": [
       "$$J(a) = \\beta y^{2} e^{- \\beta x}$$"
      ],
      "text/plain": [
       "<IPython.core.display.Math object>"
      ]
     },
     "metadata": {},
     "output_type": "display_data"
    },
    {
     "data": {
      "text/latex": [
       "$$J(b) = - x y^{3}$$"
      ],
      "text/plain": [
       "<IPython.core.display.Math object>"
      ]
     },
     "metadata": {},
     "output_type": "display_data"
    }
   ],
   "source": [
    "eqa_ = eqa.diff(x).subs(eqa, y)\n",
    "eqb_ = eqb.diff(x).subs(eqb, y)\n",
    "\n",
    "display(Math(r'J(a) = ' + latex(eqa_)))\n",
    "display(Math(r'J(b) = ' + latex(eqb_)))"
   ]
  },
  {
   "cell_type": "markdown",
   "metadata": {
    "collapsed": true
   },
   "source": [
    "#Questão 7"
   ]
  },
  {
   "cell_type": "markdown",
   "metadata": {},
   "source": [
    "Inicialmente devemos saber que a atualização dos pesos, usando o backpropagation é dada por $\\omega_{new} = \\omega{old} +\\Delta{\\omega}$. E que $\\Delta{\\omega} = -\\mu{}\\frac{dJ}{d\\omega}$.\n",
    "\n",
    "No nosso exemplo, nossa função de custo J, é o erro médio quadrado $J = \\sum_{i=1}^{n}{y' - y}$, onde $y'$ é a função de ativação do neurônio com o peso atual $\\omega$ e $y$ é o valor esperado.\n",
    "\n",
    "Vamos, inicialmente definir nossas variáveis, que vão representas, a taxa de aprendizado (alpha), os pesos dos bias ($b_0, b_1, b_2 e b_3$)."
   ]
  },
  {
   "cell_type": "code",
   "execution_count": 15,
   "metadata": {
    "collapsed": false
   },
   "outputs": [],
   "source": [
    "#alpha, x0, w11, w21, w22, w23 = symbols('\\\\alpha x0 w_1^1 w_1^2 w_2^2 w_3^2', RealNumber = True)\n",
    "\n"
   ]
  },
  {
   "cell_type": "markdown",
   "metadata": {},
   "source": [
    "E nossas funções de ativação são:"
   ]
  },
  {
   "cell_type": "code",
   "execution_count": 16,
   "metadata": {
    "collapsed": false
   },
   "outputs": [],
   "source": [
    "#y, t1, t2, t3 = symbols(\"y t_1 t_2 t_3\", Integer=True)\n",
    "\n",
    "#x0 é o valor de entrada, w11 é o peso da primeira camada (entrada)\n",
    "#y11 = tanh(v0)\n",
    "#A funcao de ativacao da primeira camada é\n",
    "#j01 = 1/2 * sqrt(y11 - y)\n",
    "\n",
    "#Vamos definir a ativação da camada escondida em função da saída da primeira camada\n",
    "#z = symbols('z')\n",
    "#y21 = exp(z * w21 + b1)\n",
    "#y22 = exp(z * w22 + b2)\n",
    "#y23 = exp(z * w23 + b3)\n",
    "\n",
    "#Vamos calcular o valor de p (a saída do MLP)\n",
    "\n",
    "#Contar p como camada de saída\n",
    "#Calcular a retropropagação a partir de p, passando por y\n",
    "#p1 = y21 / (y21 + y22 + y23)\n",
    "#p2 = y22 / (y21 + y22 + y23)\n",
    "#p3 = y23 / (y21 + y22 + y23)\n",
    "\n",
    "#j11 = t1 - p1\n",
    "#j12 = t2 - p2\n",
    "#j13 = t3 - p3"
   ]
  },
  {
   "cell_type": "markdown",
   "metadata": {},
   "source": [
    "O calculo do valor do gradient descent é dado pela formula $w = w_{old} - \\alpha * \\frac{dJ}{dw_{old}}$. E para o caso especial do erro quadrático médio (Theodoridis eq 4.12, p. 166) : $ \\frac{dJ}{dw_{old}} = \\Delta{w_j^r} = \\sum_{i=1}^{N}{e * f'(v) * x}$"
   ]
  },
  {
   "cell_type": "code",
   "execution_count": 25,
   "metadata": {
    "collapsed": false
   },
   "outputs": [
    {
     "data": {
      "text/latex": [
       "$$w_{1new} = \\frac{1}{y_{1} + y_{2} + y_{3}} \\left(- \\alpha \\left(p_{2} \\left(p_{2} - t_{2}\\right) + p_{3} \\left(p_{3} - t_{3}\\right) + \\left(p_{1} - 1\\right) \\left(p_{1} - t_{1}\\right)\\right) e^{2 b_{1} + 2 w_{1} z} + w_{1} \\left(y_{1} + y_{2} + y_{3}\\right)\\right)$$"
      ],
      "text/plain": [
       "<IPython.core.display.Math object>"
      ]
     },
     "metadata": {},
     "output_type": "display_data"
    },
    {
     "data": {
      "text/latex": [
       "$$w_{2new} = \\frac{1}{y_{1} + y_{2} + y_{3}} \\left(- \\alpha \\left(p_{1} \\left(p_{1} - t_{1}\\right) + p_{3} \\left(p_{3} - t_{3}\\right) + \\left(p_{2} - 1\\right) \\left(p_{2} - t_{2}\\right)\\right) e^{2 b_{2} + 2 w_{2} z} + w_{2} \\left(y_{1} + y_{2} + y_{3}\\right)\\right)$$"
      ],
      "text/plain": [
       "<IPython.core.display.Math object>"
      ]
     },
     "metadata": {},
     "output_type": "display_data"
    },
    {
     "data": {
      "text/latex": [
       "$$w_{3new} = \\frac{1}{y_{1} + y_{2} + y_{3}} \\left(- \\alpha \\left(p_{1} \\left(p_{1} - t_{1}\\right) + p_{2} \\left(p_{2} - t_{2}\\right) + \\left(p_{3} - 1\\right) \\left(p_{3} - t_{3}\\right)\\right) e^{2 b_{3} + 2 w_{3} z} + w_{3} \\left(y_{1} + y_{2} + y_{3}\\right)\\right)$$"
      ],
      "text/plain": [
       "<IPython.core.display.Math object>"
      ]
     },
     "metadata": {},
     "output_type": "display_data"
    },
    {
     "data": {
      "text/latex": [
       "$$w_{0new} = - \\alpha \\left(\\left(- \\tanh^{2}{\\left (b_{0} + w_{0} x_{0} \\right )} + 1\\right) \\left(\\left(- \\frac{p_{1} \\left(- p_{1} + t_{1}\\right)}{y_{1} + y_{2} + y_{3}} - \\frac{p_{2} \\left(- p_{2} + t_{2}\\right)}{y_{1} + y_{2} + y_{3}} + \\left(- p_{3} + t_{3}\\right) \\left(- \\frac{p_{3}}{y_{1} + y_{2} + y_{3}} + \\frac{1}{y_{1} + y_{2} + y_{3}}\\right)\\right) e^{2 b_{3} + 2 w_{3} z} + \\left(- \\frac{p_{1} \\left(- p_{1} + t_{1}\\right)}{y_{1} + y_{2} + y_{3}} - \\frac{p_{3} \\left(- p_{3} + t_{3}\\right)}{y_{1} + y_{2} + y_{3}} + \\left(- p_{2} + t_{2}\\right) \\left(- \\frac{p_{2}}{y_{1} + y_{2} + y_{3}} + \\frac{1}{y_{1} + y_{2} + y_{3}}\\right)\\right) e^{2 b_{2} + 2 w_{2} z} + \\left(- \\frac{p_{2} \\left(- p_{2} + t_{2}\\right)}{y_{1} + y_{2} + y_{3}} - \\frac{p_{3} \\left(- p_{3} + t_{3}\\right)}{y_{1} + y_{2} + y_{3}} + \\left(- p_{1} + t_{1}\\right) \\left(- \\frac{p_{1}}{y_{1} + y_{2} + y_{3}} + \\frac{1}{y_{1} + y_{2} + y_{3}}\\right)\\right) e^{2 b_{1} + 2 w_{1} z}\\right) + \\tanh{\\left (b_{0} + w_{0} x_{0} \\right )}\\right) + w_{0}$$"
      ],
      "text/plain": [
       "<IPython.core.display.Math object>"
      ]
     },
     "metadata": {},
     "output_type": "display_data"
    }
   ],
   "source": [
    "alpha = symbols(\"\\\\alpha\")\n",
    "\n",
    "#Valor da entrada\n",
    "x0 = symbols('x_0')\n",
    "#Peso da camada oculta\n",
    "w0 = symbols('w_0')\n",
    "#Bias da camada oculta\n",
    "b0 = symbols(\"b_0\")\n",
    "v0 = x0 * w0 + b0\n",
    "#Valor da saída da camada oculta\n",
    "y0 = tanh(v0)\n",
    "\n",
    "#Vamos definir o valor de entrada da camada oculta em função de Z\n",
    "z = symbols(\"z\")\n",
    "#Peso de saída\n",
    "w1, w2, w3 = symbols('w_1, w_2, w_3')\n",
    "#Bias de saída\n",
    "b1, b2, b3  = symbols(\"b_1, b_2, b_3\")\n",
    "v1 = z * w1 + b1\n",
    "v2 = z * w2 + b2\n",
    "v3 = z * w3 + b3\n",
    "#Saídas de saída\n",
    "y1 = exp(v1)\n",
    "y2 = exp(v2)\n",
    "y3 = exp(v3)\n",
    "\n",
    "#Probabilidade da saída\n",
    "p1 = y1 / (y1 + y2 + y3)\n",
    "p2 = y2 / (y1 + y2 + y3)\n",
    "p3 = y3 / (y1 + y2 + y3)\n",
    "\n",
    "\n",
    "######\n",
    "##Inicio do Back Propagation\n",
    "######\n",
    "p_1,p_2, p_3, y_1, y_2, y_3 = symbols(\"p_1 p_2 p_3 y_1 y_2 y_3\")\n",
    "\n",
    "#A ultima camada não possui pesos, então não há mudança a ser feita\n",
    "#Vamos simplesmente calcular o erro a ser usado na camada anterior \n",
    "t1, t2, t3, = symbols(\"t_1 t_2 t_3\")\n",
    "\n",
    "e1 = t1 - p1\n",
    "e2 = t2 - p2\n",
    "e3 = t3 - p3\n",
    "#No caso do somatorio da camada de saída usamos o \"1\" como peso\n",
    "som_saida1  = 1 * e1 * p1.diff(y1) + 1 * e2 * p2.diff(y1) + 1 * e3 * p3.diff(y1)\n",
    "som_saida2  = 1 * e1 * p1.diff(y2) + 1 * e2 * p2.diff(y2) + 1 * e3 * p3.diff(y2)\n",
    "som_saida3  = 1 * e1 * p1.diff(y3) + 1 * e2 * p2.diff(y3) + 1 * e3 * p3.diff(y3)\n",
    "\n",
    "\n",
    "#Para as camandas \"anteriores\" temos:\n",
    "# delta  = - alpha * somatorio ( saída_desse_neuronio * derivada(ativacao)(nas_entradas) * somatório(peso * erro *  derivada(ativacao)(nas_entradas) )))\n",
    "dExp = exp(x).diff(x)\n",
    "\n",
    "somatorio1 = y1 * dExp.subs(x, v1) * som_saida1\n",
    "somatorio2 = y2 * dExp.subs(x, v2) * som_saida2\n",
    "somatorio3 = y3 * dExp.subs(x, v3) * som_saida3\n",
    "\n",
    "\n",
    "w1new = w1 - alpha * somatorio1\n",
    "w1new = Subs(w1new, (p1, p2, p3, y1, y2, y3 ), (p_1, p_2, p_3, y_1, y_2, y_3)).doit().simplify()\n",
    "\n",
    "w2new = w2 - alpha * somatorio2\n",
    "w2new = Subs(w2new, (p1, p2, p3, y1, y2, y3 ), (p_1, p_2, p_3, y_1, y_2, y_3)).doit().simplify()\n",
    "\n",
    "w3new = w3 - alpha * somatorio3\n",
    "w3new = Subs(w3new, (p1, p2, p3, y1, y2, y3 ), (p_1, p_2, p_3, y_1, y_2, y_3)).doit().simplify()\n",
    "\n",
    "\n",
    "#Calculo da atualizacao da camada de entrada\n",
    "dTanhh = tanh(x).diff(x)\n",
    "somatorio0 = y0 + dTanhh.subs(x, v0) * (somatorio1 + somatorio2 + somatorio3)\n",
    "\n",
    "w0new = w0 - alpha * somatorio0\n",
    "w0new = Subs(w0new, (p1, p2, p3, y1, y2, y3 ), (p_1, p_2, p_3, y_1, y_2, y_3)).doit()\n",
    "\n",
    "#display(Math(\"s_0 = \" + latex(som_saida)))\n",
    "\n",
    "display(Math(\"w_{1new} = \" + latex(w1new)))\n",
    "\n",
    "display(Math(\"w_{2new} = \" + latex(w2new)))\n",
    "\n",
    "display(Math(\"w_{3new} = \" + latex(w3new)))\n",
    "\n",
    "display(Math(\"w_{0new} = \" + latex(w0new)))"
   ]
  },
  {
   "cell_type": "markdown",
   "metadata": {},
   "source": [
    "#Questão 8"
   ]
  },
  {
   "cell_type": "markdown",
   "metadata": {},
   "source": [
    "Abordagem usando pseudo-inversão:"
   ]
  },
  {
   "cell_type": "code",
   "execution_count": 97,
   "metadata": {
    "collapsed": false
   },
   "outputs": [
    {
     "data": {
      "text/latex": [
       "$$\\left[\\begin{matrix}-0.34201321414691\\\\0.367664205207929\\end{matrix}\\right]$$"
      ],
      "text/plain": [
       "⎡-0.34201321414691⎤\n",
       "⎢                 ⎥\n",
       "⎣0.367664205207929⎦"
      ]
     },
     "metadata": {},
     "output_type": "display_data"
    }
   ],
   "source": [
    "#Baseado em http://www.cedar.buffalo.edu/~srihari/CSE555/Chap5.Part3.pdf\n",
    "# e em https://www.byclb.com/TR/Tutorials/neural_networks/ch9_1.htm equacao 9.33\n",
    "x = Matrix([[-2,    1], \n",
    "            [-1,    1],\n",
    "            [2.5,   1],\n",
    "            [-1.8,  1],\n",
    "            [3.5,   1],\n",
    "            [1.5,   1],\n",
    "            [2.1,   1],\n",
    "            [3.8,   1]])             \n",
    "y =  Matrix([1,  1,  1,    1,   -1,  -1,   -1,   -1])\n",
    "\n",
    "r = (x.T * x).inv() * x.T * y\n",
    "display(r)"
   ]
  },
  {
   "cell_type": "markdown",
   "metadata": {},
   "source": [
    "Dessa foma o classificador que devemos usar é, dado um novo dado $x$, multiplicamos o vetor $[x, 1]$ pelo vetor dado acima, e encotraremos a classe com base no sinal do resultado."
   ]
  },
  {
   "cell_type": "markdown",
   "metadata": {},
   "source": [
    "##Abaixo código de tentativa de uso de rede neural\n",
    "Para esse caso usaremos um único perceptron com função de ativação sendo a tangente hiperbolica, de tal modo que, o resultado de saída será 1 para a classe 1, e -1 para a classe 2. E inicareos o peso com neurônio como sendo 0."
   ]
  },
  {
   "cell_type": "code",
   "execution_count": 109,
   "metadata": {
    "collapsed": false
   },
   "outputs": [
    {
     "data": {
      "text/latex": [
       "$$act(x) = \\tanh{\\left (b + w x \\right )}$$"
      ],
      "text/plain": [
       "<IPython.core.display.Math object>"
      ]
     },
     "metadata": {},
     "output_type": "display_data"
    },
    {
     "data": {
      "text/latex": [
       "$$J(x) = s \\tanh{\\left (b + w x \\right )}$$"
      ],
      "text/plain": [
       "<IPython.core.display.Math object>"
      ]
     },
     "metadata": {},
     "output_type": "display_data"
    }
   ],
   "source": [
    "#Vetores de entrada e saída\n",
    "entrada = [ -2, -1, 2.5, -1.8, 3.5, 1.5, 2.1, 3.8]\n",
    "saida = [ 1, 1, 1, 1, -1, -1, -1, -1]\n",
    "\n",
    "train = list(zip(entrada, saida))\n",
    "\n",
    "#Funcao de ativação\n",
    "x, w, s, b = symbols('x w s b')\n",
    "act = tanh(x * w + b)\n",
    "display(Math(r'act(x) = ' + latex(act)))\n",
    "\n",
    "#De forma que a a função de custo (MSE) é\n",
    "cost = s * act\n",
    "display(Math(r'J(x) = ' + latex(cost)))"
   ]
  },
  {
   "cell_type": "markdown",
   "metadata": {},
   "source": [
    "Conforme vimos no exemplo anterior o processo de atualização, usando o gradient descent, é dado por $w = w_{old} + \\alpha * \\frac{df}{dw_{old}}$, de forma que temos:"
   ]
  },
  {
   "cell_type": "code",
   "execution_count": 110,
   "metadata": {
    "collapsed": false
   },
   "outputs": [
    {
     "data": {
      "text/latex": [
       "$$dJ/dw = s x \\left(- \\tanh^{2}{\\left (b + w x \\right )} + 1\\right)$$"
      ],
      "text/plain": [
       "<IPython.core.display.Math object>"
      ]
     },
     "metadata": {},
     "output_type": "display_data"
    },
    {
     "data": {
      "text/latex": [
       "$$dJ/db = s \\left(- \\tanh^{2}{\\left (b + w x \\right )} + 1\\right)$$"
      ],
      "text/plain": [
       "<IPython.core.display.Math object>"
      ]
     },
     "metadata": {},
     "output_type": "display_data"
    },
    {
     "data": {
      "text/latex": [
       "$$w_{novo} = - \\alpha \\sum_{x=1}^{n} s^{2} x \\left(- \\tanh^{2}{\\left (b + w x \\right )} + 1\\right) + w$$"
      ],
      "text/plain": [
       "<IPython.core.display.Math object>"
      ]
     },
     "metadata": {},
     "output_type": "display_data"
    },
    {
     "data": {
      "text/latex": [
       "$$b_{novo} = - \\alpha \\sum_{x=1}^{n} s^{2} \\left(- \\tanh^{2}{\\left (b + w x \\right )} + 1\\right) + b$$"
      ],
      "text/plain": [
       "<IPython.core.display.Math object>"
      ]
     },
     "metadata": {},
     "output_type": "display_data"
    }
   ],
   "source": [
    "y, n, alpha = symbols('y n \\\\alpha')\n",
    "#Calcue a derivada da funcao de costo em funcao de w (usada no gradient descent)\n",
    "dCost_w = cost.diff(w)\n",
    "dCost_b = cost.diff(b)\n",
    "w_novo = w - alpha * summation(s * dCost_w, (x, 1, n))\n",
    "b_novo = b - alpha * summation(s * dCost_b, (x, 1, n))\n",
    "\n",
    "display(Math(r'dJ/dw = ' + latex(dCost_w)))\n",
    "display(Math(r'dJ/db = ' + latex(dCost_b)))\n",
    "\n",
    "display(Math(r'w_{novo} = ' + latex(w_novo)))\n",
    "display(Math(r'b_{novo} = ' + latex(b_novo)))"
   ]
  },
  {
   "cell_type": "markdown",
   "metadata": {},
   "source": [
    "Inicialmente devemo então proceder interactivamente para que possamos calcular o valor final w para treinarmos o neurônio. Nesse caso vamos iniciar o valores de $w = 5$ e $\\alpha = 0.5$ e $b = 1$."
   ]
  },
  {
   "cell_type": "code",
   "execution_count": 113,
   "metadata": {
    "collapsed": false
   },
   "outputs": [
    {
     "name": "stdout",
     "output_type": "stream",
     "text": [
      "y_ = 1. y_opt = -0.761594155955765\n",
      "y_ = 1. y_opt = 0\n",
      "y_ = 1. y_opt = 0.998177897611199\n",
      "y_ = 1. y_opt = -0.664036770267849\n",
      "y_ = -1. y_opt = 0.999753210848027\n",
      "y_ = -1. y_opt = 0.986614298151430\n",
      "y_ = -1. y_opt = 0.995949359221900\n",
      "y_ = -1. y_opt = 0.999864551700760\n",
      "summ = 3.55473\n",
      "summ_w = -2.89677\n",
      "summ_b = 1.94723\n",
      "w = -0.44838\n",
      "b = 1.97361\n",
      "y_ = 1. y_opt = 0.993595964024538\n",
      "y_ = 1. y_opt = 0.984372066698927\n",
      "y_ = 1. y_opt = 0.692453024015518\n",
      "y_ = 1. y_opt = 0.992342746314697\n",
      "y_ = -1. y_opt = 0.383595495083093\n",
      "y_ = -1. y_opt = 0.861990059335101\n",
      "y_ = -1. y_opt = 0.774712030623678\n",
      "y_ = -1. y_opt = 0.263395317015080\n",
      "summ = 5.94646\n",
      "summ_w = -6.52918\n",
      "summ_b = -1.86073\n",
      "w = -3.71297\n",
      "b = 1.04325\n",
      "y_ = 1. y_opt = 0.999999911939719\n",
      "y_ = 1. y_opt = 0.999852158922893\n",
      "y_ = 1. y_opt = -0.999999860502069\n",
      "y_ = 1. y_opt = 0.999999611143440\n",
      "y_ = -1. y_opt = -0.999999999916915\n",
      "y_ = -1. y_opt = -0.999765812302744\n",
      "y_ = -1. y_opt = -0.999997279892543\n",
      "y_ = -1. y_opt = -0.999999999991046\n",
      "summ = -1.99991\n",
      "summ_w = -0.00101\n",
      "summ_b = -0.00018\n",
      "w = -3.71348\n",
      "b = 1.04316\n",
      "y_ = 1. y_opt = 0.999999912101985\n",
      "y_ = 1. y_opt = 0.999852282125367\n",
      "y_ = 1. y_opt = -0.999999860878681\n",
      "y_ = 1. y_opt = 0.999999611781515\n",
      "y_ = -1. y_opt = -0.999999999917223\n",
      "y_ = -1. y_opt = -0.999766208353809\n",
      "y_ = -1. y_opt = -0.999997286139344\n",
      "y_ = -1. y_opt = -0.999999999991082\n",
      "summ = -1.99991\n",
      "summ_w = -0.00101\n",
      "summ_b = -0.00018\n",
      "w = -3.71398\n",
      "b = 1.04307\n",
      "y_ = 1. y_opt = 0.999999912263745\n",
      "y_ = 1. y_opt = 0.999852405091489\n",
      "y_ = 1. y_opt = -0.999999861253692\n",
      "y_ = 1. y_opt = 0.999999612417739\n",
      "y_ = -1. y_opt = -0.999999999917530\n",
      "y_ = -1. y_opt = -0.999766603093862\n",
      "y_ = -1. y_opt = -0.999997292361985\n",
      "y_ = -1. y_opt = -0.999999999991118\n",
      "summ = -1.99991\n",
      "summ_w = -0.00101\n",
      "summ_b = -0.00018\n",
      "w = -3.71449\n",
      "b = 1.04299\n",
      "y_ = 1. y_opt = 0.999999912425000\n",
      "y_ = 1. y_opt = 0.999852527822020\n",
      "y_ = 1. y_opt = -0.999999861627112\n",
      "y_ = 1. y_opt = 0.999999613052120\n",
      "y_ = -1. y_opt = -0.999999999917835\n",
      "y_ = -1. y_opt = -0.999766996529369\n",
      "y_ = -1. y_opt = -0.999997298560596\n",
      "y_ = -1. y_opt = -0.999999999991153\n",
      "summ = -1.99991\n",
      "summ_w = -0.00101\n",
      "summ_b = -0.00018\n",
      "w = -3.71499\n",
      "b = 1.04290\n",
      "y_ = 1. y_opt = 0.999999912585753\n",
      "y_ = 1. y_opt = 0.999852650317717\n",
      "y_ = 1. y_opt = -0.999999861998950\n",
      "y_ = 1. y_opt = 0.999999613684665\n",
      "y_ = -1. y_opt = -0.999999999918138\n",
      "y_ = -1. y_opt = -0.999767388666751\n",
      "y_ = -1. y_opt = -0.999997304735310\n",
      "y_ = -1. y_opt = -0.999999999991189\n",
      "summ = -1.99991\n",
      "summ_w = -0.00100\n",
      "summ_b = -0.00017\n",
      "w = -3.71549\n",
      "b = 1.04281\n",
      "y_ = 1. y_opt = 0.999999912746006\n",
      "y_ = 1. y_opt = 0.999852772579334\n",
      "y_ = 1. y_opt = -0.999999862369214\n",
      "y_ = 1. y_opt = 0.999999614315383\n",
      "y_ = -1. y_opt = -0.999999999918439\n",
      "y_ = -1. y_opt = -0.999767779512389\n",
      "y_ = -1. y_opt = -0.999997310886255\n",
      "y_ = -1. y_opt = -0.999999999991224\n",
      "summ = -1.99991\n",
      "summ_w = -0.00100\n",
      "summ_b = -0.00017\n",
      "w = -3.71599\n",
      "b = 1.04272\n",
      "y_ = 1. y_opt = 0.999999912905762\n",
      "y_ = 1. y_opt = 0.999852894607621\n",
      "y_ = 1. y_opt = -0.999999862737915\n",
      "y_ = 1. y_opt = 0.999999614944281\n",
      "y_ = -1. y_opt = -0.999999999918739\n",
      "y_ = -1. y_opt = -0.999768169072623\n",
      "y_ = -1. y_opt = -0.999997317013562\n",
      "y_ = -1. y_opt = -0.999999999991259\n",
      "summ = -1.99991\n",
      "summ_w = -0.00100\n",
      "summ_b = -0.00017\n",
      "w = -3.71649\n",
      "b = 1.04264\n",
      "y_ = 1. y_opt = 0.999999913065022\n",
      "y_ = 1. y_opt = 0.999853016403327\n",
      "y_ = 1. y_opt = -0.999999863105061\n",
      "y_ = 1. y_opt = 0.999999615571367\n",
      "y_ = -1. y_opt = -0.999999999919038\n",
      "y_ = -1. y_opt = -0.999768557353750\n",
      "y_ = -1. y_opt = -0.999997323117359\n",
      "y_ = -1. y_opt = -0.999999999991293\n",
      "summ = -1.99991\n",
      "summ_w = -0.00100\n",
      "summ_b = -0.00017\n",
      "w = -3.71699\n",
      "b = 1.04255\n"
     ]
    }
   ],
   "source": [
    "#Valor inicial de W\n",
    "w_ = 1\n",
    "b_ = 1\n",
    "#Taxa de aprendizado\n",
    "alpha = 0.5\n",
    "#Inicie summ com um valor diferente de zero para ele passar pelo primeir0 loop\n",
    "summ = 0.1\n",
    "summ_w = 0\n",
    "summ_b = 0\n",
    "#while abs(summ) > 0.001:\n",
    "for i in range(10):\n",
    "    summ = 0\n",
    "    summ_w = 0\n",
    "    summ_b = 0\n",
    "    #Pegue todos os elementos de treinamento e verifique os valores obtidos\n",
    "    for x_, y_ in train:        \n",
    "        #Verifque aqueles que estao classificados errado\n",
    "        #E comece a calcular o somatorio(conforme equação acima)\n",
    "        y_obt = act.subs(x, x_).subs(w, w_).subs(b, b_).doit().evalf()\n",
    "        if y_obt != y_:\n",
    "            print(\"y_ = {}. y_opt = {}\".format(y_, y_obt))\n",
    "            summ   += (y_obt - y_).evalf()\n",
    "            summ_w += dCost_w.subs(w, w_).subs(x, x_).subs(b, b_).subs(s, y_).doit().evalf()\n",
    "            summ_b += dCost_b.subs(w, w_).subs(x, x_).subs(b, b_).subs(s, y_).doit().evalf()\n",
    "    #Calcule o novo valor de w\n",
    "    if (summ != 0):\n",
    "        w_ = w_ + alpha * summ_w\n",
    "        b_ = b_ + alpha * summ_b\n",
    "        print(\"summ = {:.5f}\".format(summ))        \n",
    "        print(\"summ_w = {:.5f}\".format(summ_w))\n",
    "        print(\"summ_b = {:.5f}\".format(summ_b))\n",
    "        print(\"w = {:.5f}\".format( w_))\n",
    "        print(\"b = {:.5f}\".format( b_))"
   ]
  },
  {
   "cell_type": "markdown",
   "metadata": {},
   "source": [
    "Dessa forma, temos que a a função usada para descobrir a classe qualquer novo elemento x é dada por:"
   ]
  },
  {
   "cell_type": "code",
   "execution_count": 73,
   "metadata": {
    "collapsed": false
   },
   "outputs": [
    {
     "data": {
      "text/latex": [
       "$$act = \\tanh{\\left (- 2.4500566033112 x + 1.20084046528756 \\right )}$$"
      ],
      "text/plain": [
       "<IPython.core.display.Math object>"
      ]
     },
     "metadata": {},
     "output_type": "display_data"
    }
   ],
   "source": [
    "display(Math(r'act = ' + latex(act.subs(w, w_).subs(b,b_))))"
   ]
  },
  {
   "cell_type": "markdown",
   "metadata": {},
   "source": [
    "#Questão 9"
   ]
  },
  {
   "cell_type": "markdown",
   "metadata": {},
   "source": [
    "Calculo da máxima entropia de cada um dos elementos, conforme eqs 4.113 e 4.114 de Theodoris (pgs. 218 e 219). Primeiro vamos definir algumas funções que vão nos auxiliar no calculo final."
   ]
  },
  {
   "cell_type": "code",
   "execution_count": 114,
   "metadata": {
    "collapsed": true
   },
   "outputs": [],
   "source": [
    "def entropy(p1, p2):\n",
    "    '''Calcula a entopia de um conjunto de dados que possui duas classes\n",
    "    com probabilidades p1 e p2, respectivamente\n",
    "    '''\n",
    "    if p2 != 0:\n",
    "        p2 = p2 * np.log2(p2)\n",
    "    if p1 != 0:\n",
    "        p1 = p1 * np.log2(p1) \n",
    "    return - (p1 + p2)\n",
    "\n",
    "def impurity(df):\n",
    "    '''Calcula a impureza de uma dada tabela de dados.\n",
    "    Esse algoritmo assume que só existem duas classes \n",
    "    e que a coluna de classificacao se chama \"paga\"\n",
    "    '''\n",
    "    #Define a probabilidade inicial das classes como 0\n",
    "    p1 = p2 = 0\n",
    "    #Calcule as probabilidades\n",
    "    res = df['paga'].value_counts()/ df.shape[0]\n",
    "    #Pode ser que alguma classe não apareça, vamos checar...    \n",
    "    if 0 in res:\n",
    "        p1 = res[0]\n",
    "    if 1 in res:\n",
    "        p2 = res[1]    \n",
    "    return entropy(p1, p2)\n",
    "\n",
    "def impurity_delta(df, split):\n",
    "    '''Calcula o delta da impureza da base de dados df,\n",
    "    depois de se fazer uma divisão usando a coluna split.\n",
    "    Assume que os valores da coluna split só podem ser 0 ou 1.\n",
    "    '''\n",
    "    df0 = df[df[split] == 0]    \n",
    "    df1 = df[df[split] == 1]    \n",
    "    ori = impurity(df)\n",
    "    imp0 = impurity(df0)    \n",
    "    imp1 = impurity(df1)\n",
    "    delta = ori - df.shape[0] * imp0 / df0.shape[0] - df.shape[0] * imp1 / df1.shape[0]     \n",
    "    return delta"
   ]
  },
  {
   "cell_type": "markdown",
   "metadata": {},
   "source": [
    "Agora vamos definir nossos dados.\n",
    "Note que existem alguns dados faltantes. Vamos tratar esses casos substituindo os NaN pelo modo dos valores das colunas."
   ]
  },
  {
   "cell_type": "code",
   "execution_count": 115,
   "metadata": {
    "collapsed": false
   },
   "outputs": [],
   "source": [
    "#Codificacoes:\n",
    "#universitario = 1, segundo grau =0\n",
    "#salario 7k = 1, salario 2k = 0\n",
    "#casa propria sim = 1, casa propria nao = 0\n",
    "#sexo masculino = 1, sexo feminino = 0\n",
    "#Emprestimo no prazo sim = 1, emprestimo no prazo nao = 0\n",
    "dados = [[1, 1, 1, 1, 1],\n",
    "         [0, np.nan, 1, 1, 1],\n",
    "         [0, 0, 0, 0, 1],\n",
    "         [1, 1, 0, 1, 0],\n",
    "         [1, 1, 1, 1, 1],\n",
    "         [1, 0, 1, 0, 1],\n",
    "         [0, 1, 0, 1, 0],\n",
    "         [1, 0, np.nan, 0, 1],\n",
    "         [0, 0, 0, 1, 0]]\n",
    "\n",
    "df = pd.DataFrame(dados, columns=['instrucao', 'salario', 'casa', 'sexo', 'paga'])\n",
    "\n",
    "df['salario'] = df['salario'].fillna(df['salario'].mode()[0])\n",
    "df['casa'] = df['casa'].fillna(df['casa'].mode()[0])"
   ]
  },
  {
   "cell_type": "markdown",
   "metadata": {},
   "source": [
    " Agora podemos calcular a variação da entropia para cada critério de separação."
   ]
  },
  {
   "cell_type": "code",
   "execution_count": 116,
   "metadata": {
    "collapsed": false
   },
   "outputs": [
    {
     "name": "stdout",
     "output_type": "stream",
     "text": [
      "Impurity original: 0.9182958340544896\n",
      "------\n",
      "Criterio: instrucao\n",
      "Impurity0 = 1.00000. Impurity1 = 0.72193\n",
      "Delta criterio = -2.6311747367427625\n",
      "------\n",
      "Criterio: salario\n",
      "Impurity0 = 0.72193. Impurity1 = 1.00000\n",
      "Delta criterio = -2.6311747367427625\n",
      "------\n",
      "Criterio: casa\n",
      "Impurity0 = 0.97095. Impurity1 = -0.00000\n",
      "Delta criterio = -0.829415235963914\n",
      "------\n",
      "Criterio: sexo\n",
      "Impurity0 = -0.00000. Impurity1 = 1.00000\n",
      "Delta criterio = -0.5817041659455104\n",
      "------\n"
     ]
    }
   ],
   "source": [
    "print(\"Impurity original: {}\".format(impurity(df)))\n",
    "print(\"------\")\n",
    "for col in ['instrucao', 'salario', 'casa', 'sexo']:\n",
    "    print(\"Criterio: {}\".format(col))\n",
    "    print(\"Impurity0 = {:.5f}. Impurity1 = {:.5f}\".format(impurity(df[df[col] == 0]), impurity(df[df[col] == 1])))\n",
    "    print(\"Delta criterio = {}\".format(impurity_delta(df, col)))\n",
    "    print(\"------\")"
   ]
  },
  {
   "cell_type": "markdown",
   "metadata": {},
   "source": [
    "Dessa forma podemos concluir que o melhor critério de separação (inicialmente), é o \"sexo\"."
   ]
  },
  {
   "cell_type": "markdown",
   "metadata": {},
   "source": [
    "#Questão 10\n",
    "\n",
    "<img src=\"foo.png\">"
   ]
  },
  {
   "cell_type": "markdown",
   "metadata": {},
   "source": [
    "#Questão 11"
   ]
  },
  {
   "cell_type": "code",
   "execution_count": 117,
   "metadata": {
    "collapsed": false
   },
   "outputs": [
    {
     "name": "stdout",
     "output_type": "stream",
     "text": [
      "W = \n",
      "[[ 0.926   0.074 ]\n",
      " [ 0.9953  0.0047]\n",
      " [ 0.0353  0.9647]]\n",
      "--\n",
      "Alpha = \n",
      "[0.65221151467263982, 0.34778848532736012]\n",
      "--\n",
      "mi[0]= \n",
      "[[-0.7273]\n",
      " [-0.7453]]\n",
      "mi[1]= \n",
      "[[ 0.8846]\n",
      " [-0.04  ]]\n",
      "--\n",
      "covariancia[0] = \n",
      "[[ 0.1162  0.085 ]\n",
      " [ 0.085   0.0715]]\n",
      "covariancia[1] =\n",
      "[[ 0.1643  0.0576]\n",
      " [ 0.0576  0.0206]]\n"
     ]
    }
   ],
   "source": [
    "#Algoritmo baseado em http://www.ics.uci.edu/~smyth/courses/cs274/notes/EMnotes.pdf\n",
    "def expectation(X, K, alpha):\n",
    "    #Crie um array de zeroes de X x K\n",
    "    # Esse array vai servir para guardar o valor da pdf de cada gausiana \n",
    "    #para cada observação\n",
    "    w = np.zeros([len(X), len(K)])\n",
    "\n",
    "    ############\n",
    "    #Calculo da expectation\n",
    "    ############\n",
    "    #Para todas as observacoes\n",
    "    for i in range(len(X)):    \n",
    "        #Calcule o somatorio de todas as gausianas para essa observacao\n",
    "        somatorio = 0\n",
    "        for k in range(len(K)):        \n",
    "            somatorio = K[k].pdf(X[i].T) * alpha[k]\n",
    "        #Agora guarde o novo valor de w    \n",
    "        for k in range(len(K)): \n",
    "            w[i,k] = (K[k].pdf(X[i].T) * alpha[k]) / somatorio\n",
    "\n",
    "    #Calcule a soma de todas as linhas (ou seja, o valor total de K para cada observacao)\n",
    "    soma_w = w.sum(axis=1).reshape([len(X),1])\n",
    "    #Agora tem a probabilidade de x(linhas) pertencer a cada uma das classes (colunas)\n",
    "    w = w / soma_w\n",
    "    \n",
    "    return w\n",
    "\n",
    "def maximization(w, X, K, alpha):\n",
    "    ############\n",
    "    #Calculo da maximizacao\n",
    "    ############\n",
    "\n",
    "    #Primeiro vamos atualizar os valores de alpha\n",
    "    #Calcule a soma dos valores do vetor w com respeito K\n",
    "    N = w.sum(axis=0)\n",
    "    Ntotal = N.sum()\n",
    "    mi = []\n",
    "\n",
    "    #E calcule a percentagem para cada um\n",
    "    for k in range(len(alpha)):\n",
    "        alpha[k] = N[k] / Ntotal\n",
    "    \n",
    "    #Novo calculo das medias\n",
    "    #Para cada gausiana\n",
    "    for k in range(len(K)):\n",
    "        #Calcule o somatorio de x pelo peso da gausiana para aquele elemento\n",
    "        somatorio = 0\n",
    "        for i in range(len(X)):\n",
    "            somatorio += w[i,k] * X[i]\n",
    "\n",
    "        mi.append(somatorio/N[k])\n",
    "\n",
    "    #Calculo da nova covariancia\n",
    "    #Para cada gausiana\n",
    "    for k in range(len(K)):\n",
    "        #Calcule o somatorio\n",
    "        somatorio = 0    \n",
    "        for i in range(len(X)):    \n",
    "            somatorio += w[i,k] * (X[i] - mi[k]) * (X[i] - mi[k]).T\n",
    "\n",
    "        cov[k] = somatorio / N[k]    \n",
    "    \n",
    "    return alpha, mi, cov\n",
    "    \n",
    "#Matriz de médias (duas matrizes de 2x1)\n",
    "mi1 = np.matrix([-1, -1]).T\n",
    "mi2 = np.matrix([ 1,  0]).T\n",
    "mi = [mi1, mi2]\n",
    "\n",
    "#Tabela de covariância (duas matrizes de 2x2)\n",
    "cov1 = np.matrix([[0.5,  0.25],[ 0.25, 0.5]])\n",
    "cov2 = np.matrix([[1.0, -0.5], [-0.5,  1.0]])                \n",
    "cov = [cov1, cov2]\n",
    "\n",
    "norm1 = multivariate_normal(mean=mi[0].T.tolist()[0], cov=cov[0])\n",
    "norm2 = multivariate_normal(mean=mi[1].T.tolist()[0], cov=cov[1])\n",
    "K = [norm1, norm2]\n",
    "\n",
    "#A probabilidade de cada gausiana\n",
    "alpha = [ 0.5, 0.5]\n",
    "\n",
    "#O array com as observacoes\n",
    "X = [np.matrix([-0.5, -0.5]).T, \n",
    "     np.matrix([-1.0, -1.0]).T,\n",
    "     np.matrix([ 1.0,  0.0]).T]\n",
    "\n",
    "w = expectation(X, K, alpha)\n",
    "alpha, mi, cov = maximization(w, X, K, alpha)\n",
    "    \n",
    "print(\"W = \\n{}\\n--\".format(w))        \n",
    "print(\"Alpha = \\n{}\\n--\".format(alpha))    \n",
    "print(\"mi[0]= \\n{}\\nmi[1]= \\n{}\\n--\".format(mi[0], mi[1]))\n",
    "print(\"covariancia[0] = \\n{}\\ncovariancia[1] =\\n{}\".format(cov[0], cov[1]))"
   ]
  },
  {
   "cell_type": "markdown",
   "metadata": {},
   "source": [
    "#Questão 12\n"
   ]
  },
  {
   "cell_type": "code",
   "execution_count": 118,
   "metadata": {
    "collapsed": false
   },
   "outputs": [
    {
     "data": {
      "image/png": "[encoded data removed]",
      "text/plain": [
       "<matplotlib.figure.Figure at 0xd8d0e10>"
      ]
     },
     "metadata": {},
     "output_type": "display_data"
    },
    {
     "data": {
      "image/png": "[encoded data removed]",
      "text/plain": [
       "<matplotlib.figure.Figure at 0xbab4eb8>"
      ]
     },
     "metadata": {},
     "output_type": "display_data"
    },
    {
     "data": {
      "image/png": "[encoded data removed]",
      "text/plain": [
       "<matplotlib.figure.Figure at 0xd9eaba8>"
      ]
     },
     "metadata": {},
     "output_type": "display_data"
    },
    {
     "name": "stdout",
     "output_type": "stream",
     "text": [
      "Pontos medios finais\n",
      "[-0.76 -0.85]\n",
      "[ 0.56  0.53]\n",
      "[ 1.1533 -0.98  ]\n",
      "Pontos nos três conjuntos\n",
      "[[-0.76, -0.85]]\n",
      "[[0.67, 0.25], [0.45, 0.81]]\n",
      "[[1.47, -1.54], [1.14, -0.68], [0.85, -0.72]]\n"
     ]
    }
   ],
   "source": [
    "def distancia(x, y):\n",
    "    dist1 = np.power(x[0] - y[0],2)\n",
    "    dist2 = np.power(x[1] - y[1],2)\n",
    "    res = np.sqrt(dist1 + dist2)\n",
    "    return res\n",
    "\n",
    "conjuntos = [[],[],[]]\n",
    "old_conjuntos = None\n",
    "\n",
    "media = [[0, 0],\n",
    "         [1, 1.5],\n",
    "         [0.5, -1]]\n",
    "\n",
    "dados = [[-0.76,  -0.85],\n",
    "         [ 0.67,   0.25],\n",
    "         [ 1.47,  -1.54],\n",
    "         [ 1.14,  -0.68],\n",
    "         [ 0.85,  -0.72],\n",
    "         [ 0.45,   0.81]]\n",
    "\n",
    "\n",
    "colors = ['r', 'g', 'b']\n",
    "while old_conjuntos != conjuntos:\n",
    "    old_conjuntos = deepcopy(conjuntos)\n",
    "    conjuntos = [[],[],[]]\n",
    "      \n",
    "    #Para todos os dados do conjunto\n",
    "    for d in range(len(dados)):        \n",
    "        dists = []\n",
    "        #Calcule a distancia do ponto para cada media (ponto central)\n",
    "        for m in range(len(media)):           \n",
    "            dists.append(distancia(media[m], dados[d]))\n",
    "        #Coloque esse ponto no conjunto de media menos distante\n",
    "        conjuntos[np.argmin(dists)].append(dados[d])    \n",
    "        \n",
    "    #Plot o grafico para vermos o andamento\n",
    "    for i in range(len(conjuntos)):\n",
    "        plt.plot([x[0] for x in conjuntos[i]], [x[1] for x in conjuntos[i]], 'rx', color=colors[i])       \n",
    "        plt.plot(media[i][0], media[i][1], 'rs', color=colors[i])   \n",
    "    plt.axis([-2, 2, -2, 2])\n",
    "    plt.show()\n",
    "    \n",
    "    #Atualize a media (ponto central) de cada conjunto\n",
    "    for c in range(len(conjuntos)):\n",
    "        #Se esse conjunto tem algum elemento atualize a media\n",
    "        if len(conjuntos[c]) > 0 :            \n",
    "            media[c] = np.mean(conjuntos[c], axis=0)\n",
    "    \n",
    "    \n",
    "print(\"Pontos medios finais\")        \n",
    "for m in media:\n",
    "    print(m)\n",
    "print(\"Pontos nos três conjuntos\")\n",
    "for c in conjuntos:\n",
    "    print(c)\n"
   ]
  },
  {
   "cell_type": "markdown",
   "metadata": {},
   "source": [
    "#Questão 13"
   ]
  },
  {
   "cell_type": "markdown",
   "metadata": {},
   "source": [
    "Para calcular a GMM usando os valores da questão anteriores, partimos do pressuposto que existem 3 gausianas (já que encontramos três grupos na uqestão anterior).\n",
    "Para iniciar os valores do GMM precisamos de alguns elementos:\n",
    "* __média de cada grupo/gausiana__: calculado na questão anterior\n",
    "* __covariância de cada grupo__: calculado manualmente. No caso de um grupo possuir somente um elemento assumimos que sua matriz de covariância é 0\n",
    "* __probabilidade de cada gausiana__: calculamos o número de elementos de cada grupo, pelo tamanho total da amostra\n",
    "\n",
    "Além do problema de determinar a covariância de um grupo com uma única matriz, tivemos de utilizar pseudo-inversão em todos os casos, pois as matrizes de covariâncias encontradas são singulares."
   ]
  },
  {
   "cell_type": "code",
   "execution_count": 119,
   "metadata": {
    "collapsed": false
   },
   "outputs": [
    {
     "name": "stdout",
     "output_type": "stream",
     "text": [
      "W = \n",
      "[[ 0.863   0.137   0.    ]\n",
      " [ 0.5592  0.4084  0.0323]\n",
      " [ 0.3821  0.      0.6179]\n",
      " [ 0.3812  0.0025  0.6163]\n",
      " [ 0.3805  0.0042  0.6153]\n",
      " [ 0.5777  0.4219  0.0004]]\n",
      "--\n",
      "Alpha = \n",
      "[0.52396103592423349, 0.1623412838710302, 0.31369768020473626]\n",
      "--\n",
      "mi[0]= \n",
      "[[ 0.4131]\n",
      " [-0.3968]]\n",
      "mi[1]= \n",
      "[[ 0.3755]\n",
      " [ 0.3312]]\n",
      "--\n",
      "covariancia[0] = \n",
      "[[ 0.6127 -0.0052]\n",
      " [-0.0052  0.5797]]\n",
      "covariancia[1] =\n",
      "[[ 0.2227  0.19  ]\n",
      " [ 0.19    0.3057]]\n"
     ]
    }
   ],
   "source": [
    "cov = []\n",
    "alpha = []\n",
    "for i in range(len(conjuntos)):    \n",
    "    matrizes = conjuntos[i]\n",
    "    if len(matrizes) == 1:\n",
    "        matrizes = np.vstack([matrizes,matrizes])\n",
    "    cov.append(np.cov(matrizes, rowvar=0))\n",
    "    alpha.append(len(matrizes) / 6)\n",
    "    \n",
    "    \n",
    "#Vamos transformar as medias e os dados para matrizes (na questão passada eles eram listas)    \n",
    "_media = []\n",
    "for m in media:    \n",
    "    _media.append(np.matrix(m).T)\n",
    "    \n",
    "_dados = []\n",
    "for d in dados:\n",
    "    _dados.append(np.matrix(d).T)\n",
    "\n",
    "#Crie as gausianas, como na questão 11\n",
    "norm1 = multivariate_normal(mean=media[0].T.tolist(), cov=cov[0], allow_singular=True)\n",
    "norm2 = multivariate_normal(mean=media[1].T.tolist(), cov=cov[1], allow_singular=True)\n",
    "norm3 = multivariate_normal(mean=media[2].T.tolist(), cov=cov[2], allow_singular=True)\n",
    "\n",
    "K = [norm1, norm2, norm3]\n",
    "\n",
    "#Calculo a expectativa e a maximazação\n",
    "w = expectation(_dados, K, alpha)\n",
    "alpha, mi, cov = maximization(w, _dados, K, alpha)\n",
    "    \n",
    "print(\"W = \\n{}\\n--\".format(w))        \n",
    "print(\"Alpha = \\n{}\\n--\".format(alpha))    \n",
    "print(\"mi[0]= \\n{}\\nmi[1]= \\n{}\\n--\".format(mi[0], mi[1]))\n",
    "print(\"covariancia[0] = \\n{}\\ncovariancia[1] =\\n{}\".format(cov[0], cov[1]))\n"
   ]
  },
  {
   "cell_type": "markdown",
   "metadata": {},
   "source": [
    "#Questão 14\n",
    "\n",
    "$$\\frac{\\sum_{i=1}^{N}{x_i}} {N}$$\n",
    "\n",
    "$$\\frac{(x_N + \\sum_{i=1}^{N-1}{x_i})}{ N}$$\n",
    "\n",
    "$$\\frac{x_N}{N} + \\frac{\\sum_{i=1}^{N-1}{x_i}}{N}$$\n",
    "\n",
    "$$\\frac{x_N}{N} + \\frac{\\sum_{i=1}^{N-1}{x_i}}{N-1} * \\frac{N-1}{N}$$\n",
    "\n",
    "$$\\frac{x_N}{N} +  \\mu_{N-1}* \\frac{N-1}{N}$$\n",
    "\n",
    "$$\\frac{x_N + N* \\mu_{N-1} - \\mu_{N-1}}{N}$$\n",
    "\n",
    "$$\\frac{N* \\mu_{N-1}}{N}+ \\frac{x_N - \\mu_{N-1}}{N}$$\n",
    "\n",
    "$$\\mu_{N-1}+ \\frac{1}{N}*(x_N - \\mu_{N-1})$$"
   ]
  },
  {
   "cell_type": "markdown",
   "metadata": {},
   "source": [
    "#Questão 15"
   ]
  },
  {
   "cell_type": "code",
   "execution_count": 218,
   "metadata": {
    "collapsed": true
   },
   "outputs": [],
   "source": [
    "def train(x, y):    \n",
    "    r = np.linalg.pinv(x)* y\n",
    "    return r\n",
    "\n",
    "def pred(x, param):\n",
    "    return x * param\n"
   ]
  },
  {
   "cell_type": "markdown",
   "metadata": {},
   "source": [
    "#Questão 16\n",
    "\n",
    "Dados conseguidos de: http://archive.ics.uci.edu/ml/datasets/SPECT+Heart"
   ]
  },
  {
   "cell_type": "code",
   "execution_count": 219,
   "metadata": {
    "collapsed": false
   },
   "outputs": [
    {
     "name": "stdout",
     "output_type": "stream",
     "text": [
      "[[-0.1231]\n",
      " [-0.1684]\n",
      " [-0.6333]\n",
      " [ 0.327 ]\n",
      " [ 0.056 ]\n",
      " [ 0.226 ]\n",
      " [ 0.323 ]\n",
      " [ 0.5811]\n",
      " [-0.2672]\n",
      " [ 0.2224]\n",
      " [ 0.2133]\n",
      " [-0.1707]\n",
      " [ 0.3675]\n",
      " [ 0.1231]\n",
      " [-0.0627]\n",
      " [ 0.2324]\n",
      " [ 0.1966]\n",
      " [-0.1604]\n",
      " [ 0.0057]\n",
      " [ 0.1236]\n",
      " [ 0.0941]\n",
      " [ 0.2201]]\n"
     ]
    },
    {
     "data": {
      "text/latex": [
       "$$0.0374331550802$$"
      ],
      "text/plain": [
       "0.0374331550802"
      ]
     },
     "execution_count": 219,
     "metadata": {},
     "output_type": "execute_result"
    }
   ],
   "source": [
    "df = pd.read_csv(\"SPECT.train\", header=None)\n",
    "test = pd.read_csv(\"SPECT.test\", header=None)\n",
    "\n",
    "x = np.asmatrix(df.loc[: , 1:])\n",
    "y = np.asmatrix(df.loc[:, 0]).T\n",
    "\n",
    "x_test = np.asmatrix(test.loc[: , 1:])\n",
    "y_test = np.asmatrix(test.loc[:, 0]).T\n",
    "\n",
    "r = train(x, y)\n",
    "print(r)\n",
    "res = pred(x_test, r)\n",
    "(res == y_test).sum()/len(res)"
   ]
  }
 ],
 "metadata": {
  "kernelspec": {
   "display_name": "Python 3",
   "language": "python",
   "name": "python3"
  },
  "language_info": {
   "codemirror_mode": {
    "name": "ipython",
    "version": 3
   },
   "file_extension": ".py",
   "mimetype": "text/x-python",
   "name": "python",
   "nbconvert_exporter": "python",
   "pygments_lexer": "ipython3",
   "version": "3.4.3"
  }
 },
 "nbformat": 4,
 "nbformat_minor": 0
}
