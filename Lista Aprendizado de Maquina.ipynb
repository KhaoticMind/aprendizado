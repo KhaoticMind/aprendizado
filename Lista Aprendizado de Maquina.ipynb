{
 "cells": [
  {
   "cell_type": "code",
   "execution_count": 243,
   "metadata": {
    "collapsed": false
   },
   "outputs": [],
   "source": [
    "import numpy as np\n",
    "from IPython.display import display, Math\n",
    "from sympy import *\n",
    "from sympy.matrices import *\n",
    "import pandas as pd\n",
    "import numpy as np\n",
    "init_printing(use_latex=\"mathjax\")"
   ]
  },
  {
   "cell_type": "markdown",
   "metadata": {},
   "source": [
    "#Questão 1"
   ]
  },
  {
   "cell_type": "markdown",
   "metadata": {},
   "source": [
    "## A"
   ]
  },
  {
   "cell_type": "markdown",
   "metadata": {},
   "source": [
    "Conforme a equação 2.7 (página 30) de Theodoridis."
   ]
  },
  {
   "cell_type": "code",
   "execution_count": 2,
   "metadata": {
    "collapsed": false
   },
   "outputs": [
    {
     "data": {
      "text/latex": [
       "$$p(w|x) = -0.5 \\left(-1 \\mu^T + x^T\\right) \\Sigma^{-1} \\left(-1 \\mu + x\\right)$$"
      ],
      "text/plain": [
       "<IPython.core.display.Math object>"
      ]
     },
     "metadata": {},
     "output_type": "display_data"
    }
   ],
   "source": [
    "x   = MatrixSymbol('x', 2, 1)\n",
    "mi  = MatrixSymbol('\\\\mu', 2, 1)\n",
    "cov = MatrixSymbol('\\\\Sigma', 2, 2)\n",
    "\n",
    "func = - 1/2 *(x - mi).T * cov.I * (x - mi)\n",
    "\n",
    "display(Math(r'p(w|x) = ' + latex(func)))"
   ]
  },
  {
   "cell_type": "markdown",
   "metadata": {},
   "source": [
    "Podemos então substituir os valores dados nessa equação:"
   ]
  },
  {
   "cell_type": "code",
   "execution_count": 3,
   "metadata": {
    "collapsed": false
   },
   "outputs": [
    {
     "data": {
      "text/latex": [
       "$$p(w_1|x) = -0.5 \\left(-1 \\left(\\left[\\begin{matrix}0\\\\0\\end{matrix}\\right]\\right)^T + x^T\\right) \\left(\\left[\\begin{matrix}0.2 & 0\\\\0 & 0.2\\end{matrix}\\right]\\right)^{-1} \\left(-1 \\left[\\begin{matrix}0\\\\0\\end{matrix}\\right] + x\\right)$$"
      ],
      "text/plain": [
       "<IPython.core.display.Math object>"
      ]
     },
     "metadata": {},
     "output_type": "display_data"
    },
    {
     "data": {
      "text/latex": [
       "$$p(w_2|x) = -0.5 \\left(-1 \\left(\\left[\\begin{matrix}0.5\\\\1\\end{matrix}\\right]\\right)^T + x^T\\right) \\left(\\left[\\begin{matrix}0.2 & 0\\\\0 & 0.2\\end{matrix}\\right]\\right)^{-1} \\left(-1 \\left[\\begin{matrix}0.5\\\\1\\end{matrix}\\right] + x\\right)$$"
      ],
      "text/plain": [
       "<IPython.core.display.Math object>"
      ]
     },
     "metadata": {},
     "output_type": "display_data"
    }
   ],
   "source": [
    "mi1 = Matrix([[0] ,[0]])\n",
    "mi2 = Matrix([[0.5], [1]])\n",
    "cov1 = cov2 = Matrix([[0.2, 0], [0, 0.2]])\n",
    "\n",
    "pcw1 = func.subs(mi,mi1).subs(cov,cov1)\n",
    "pcw2 = func.subs(mi,mi2).subs(cov,cov2)\n",
    "\n",
    "display(Math(r'p(w_1|x) = ' + latex(pcw1)))\n",
    "display(Math(r'p(w_2|x) = ' + latex(pcw2)))"
   ]
  },
  {
   "cell_type": "markdown",
   "metadata": {},
   "source": [
    "De forma que nosso classificador passa a ser: $x \\in w_2, if, p(w_2|x) > p(w_1|x)$"
   ]
  },
  {
   "cell_type": "markdown",
   "metadata": {
    "collapsed": false
   },
   "source": [
    "## B"
   ]
  },
  {
   "cell_type": "markdown",
   "metadata": {},
   "source": [
    "Conforme equação 2.20, na página 18 do livros de Theodoridis:\n",
    "$x \\in w_2, if, p(x|w_2) > p(x|w_1)\\frac{\\lambda_{12}}\\lambda_{21}$ podemos extender nosso resultado anterior da seguinte forma: $x \\in w_2, if, p(x|w_2) > p(x|w_1)\\frac{0.5}1$."
   ]
  },
  {
   "cell_type": "markdown",
   "metadata": {},
   "source": [
    "#Questão 2"
   ]
  },
  {
   "cell_type": "markdown",
   "metadata": {},
   "source": [
    "#Questão 3"
   ]
  },
  {
   "cell_type": "markdown",
   "metadata": {},
   "source": [
    "#Questão 4"
   ]
  },
  {
   "cell_type": "markdown",
   "metadata": {},
   "source": [
    "Em primeiro lugar temos de calcular o valor de $p(c_1|x)$, fazemos isso sabendo que $p(c_1|x) + p(c_2|x) = 1$:"
   ]
  },
  {
   "cell_type": "code",
   "execution_count": 13,
   "metadata": {
    "collapsed": false
   },
   "outputs": [
    {
     "data": {
      "text/latex": [
       "$$p(c_1|x) = 0.818$$"
      ],
      "text/plain": [
       "<IPython.core.display.Math object>"
      ]
     },
     "execution_count": 13,
     "metadata": {},
     "output_type": "execute_result"
    }
   ],
   "source": [
    "pc1x = symbols('pc1x')\n",
    "px = symbols('px')\n",
    "pc1 = 0.6\n",
    "pc2 = 0.4\n",
    "pxc1 = pc1x * px / pc1\n",
    "pxc2 = pxc1 / 3\n",
    "pc2x = pxc2 * pc2 / px\n",
    "#Resolve a equacao pc1x + pc2x = 1 para pc1x\n",
    "res = solve(pc1x + pc2x - 1, pc1x)[0]\n",
    "Math('p(c_1|x) = {:.3f}'.format(res))"
   ]
  },
  {
   "cell_type": "markdown",
   "metadata": {},
   "source": [
    "Com base nisso, já podemos inferir que, dado um único padrão, a probabilidade de ele ser da classe C1 é igual ao valor acima.\n",
    "Para calcular a probabilidade de ele ocorrer duas ou três vezes (maioria para os casos k = 3 e k = 5, respectivamente) é:"
   ]
  },
  {
   "cell_type": "code",
   "execution_count": 5,
   "metadata": {
    "collapsed": false
   },
   "outputs": [
    {
     "name": "stdout",
     "output_type": "stream",
     "text": [
      "Para K=1 -> 0.818\n",
      "Para k=2 -> 0.669\n",
      "Para k=5 -> 0.548\n"
     ]
    }
   ],
   "source": [
    "print('Para K=1 -> {:.3f}'.format(pc1x))\n",
    "print('Para k=2 -> {:.3f}'.format(pc1x ** 2))\n",
    "print('Para k=5 -> {:.3f}'.format(pc1x ** 3))"
   ]
  },
  {
   "cell_type": "markdown",
   "metadata": {},
   "source": [
    "#Questão 5"
   ]
  },
  {
   "cell_type": "markdown",
   "metadata": {},
   "source": [
    "#Questão 6"
   ]
  },
  {
   "cell_type": "markdown",
   "metadata": {},
   "source": [
    "As funções de ativação que temos são:"
   ]
  },
  {
   "cell_type": "code",
   "execution_count": 6,
   "metadata": {
    "collapsed": false
   },
   "outputs": [
    {
     "data": {
      "text/latex": [
       "$$a = \\frac{1}{1 + e^{- \\beta x}}$$"
      ],
      "text/plain": [
       "<IPython.core.display.Math object>"
      ]
     },
     "metadata": {},
     "output_type": "display_data"
    },
    {
     "data": {
      "text/latex": [
       "$$b = \\frac{1}{\\sqrt{\\beta + x^{2}}}$$"
      ],
      "text/plain": [
       "<IPython.core.display.Math object>"
      ]
     },
     "metadata": {},
     "output_type": "display_data"
    }
   ],
   "source": [
    "x, y, B = symbols('x y \\\\beta')\n",
    "eqa = 1 / (1 + exp(-B*x))\n",
    "eqb = 1 / (sqrt(x ** 2 + B))\n",
    "\n",
    "display(Math(r'a = ' + latex(eqa)))\n",
    "display(Math(r'b = ' + latex(eqb)))"
   ]
  },
  {
   "cell_type": "markdown",
   "metadata": {},
   "source": [
    "A função de custo é dada pela derivada da função de ativação."
   ]
  },
  {
   "cell_type": "code",
   "execution_count": 7,
   "metadata": {
    "collapsed": false
   },
   "outputs": [
    {
     "data": {
      "text/latex": [
       "$$\\frac{da}{dx} = \\frac{\\beta e^{- \\beta x}}{\\left(1 + e^{- \\beta x}\\right)^{2}}$$"
      ],
      "text/plain": [
       "<IPython.core.display.Math object>"
      ]
     },
     "metadata": {},
     "output_type": "display_data"
    },
    {
     "data": {
      "text/latex": [
       "$$\\frac{db}{dx} = - \\frac{x}{\\left(\\beta + x^{2}\\right)^{\\frac{3}{2}}}$$"
      ],
      "text/plain": [
       "<IPython.core.display.Math object>"
      ]
     },
     "metadata": {},
     "output_type": "display_data"
    }
   ],
   "source": [
    "display(Math(r'\\frac{da}{dx} = ' + latex(eqa.diff(x))))\n",
    "display(Math(r'\\frac{db}{dx} = ' + latex(eqb.diff(x))))"
   ]
  },
  {
   "cell_type": "markdown",
   "metadata": {},
   "source": [
    "Como queremos que a função de custo seja dada em função da saída do neurônio (ou seja, da própria função de ativação):"
   ]
  },
  {
   "cell_type": "code",
   "execution_count": 8,
   "metadata": {
    "collapsed": false
   },
   "outputs": [
    {
     "data": {
      "text/latex": [
       "$$J(a) = \\beta y^{2} e^{- \\beta x}$$"
      ],
      "text/plain": [
       "<IPython.core.display.Math object>"
      ]
     },
     "metadata": {},
     "output_type": "display_data"
    },
    {
     "data": {
      "text/latex": [
       "$$J(b) = - x y^{3}$$"
      ],
      "text/plain": [
       "<IPython.core.display.Math object>"
      ]
     },
     "metadata": {},
     "output_type": "display_data"
    }
   ],
   "source": [
    "eqa_ = eqa.diff(x).subs(eqa, y)\n",
    "eqb_ = eqb.diff(x).subs(eqb, y)\n",
    "\n",
    "display(Math(r'J(a) = ' + latex(eqa_)))\n",
    "display(Math(r'J(b) = ' + latex(eqb_)))"
   ]
  },
  {
   "cell_type": "markdown",
   "metadata": {
    "collapsed": true
   },
   "source": [
    "#Questão 7"
   ]
  },
  {
   "cell_type": "markdown",
   "metadata": {},
   "source": [
    "Para a camada de entrada a função de ativação é dada por:"
   ]
  },
  {
   "cell_type": "code",
   "execution_count": 9,
   "metadata": {
    "collapsed": false
   },
   "outputs": [],
   "source": [
    "alpha, x0, x, w11, w21, w22, w23 = symbols('\\\\alpha x0 x w_1^1 w_2^1 w_2^2 w_2^3')\n",
    "#x0 é o valor de entrada, w11 é o peso da primeira camada (entrada)\n",
    "y11 = tanh(x0 * w11)"
   ]
  },
  {
   "cell_type": "markdown",
   "metadata": {},
   "source": [
    "Já para a camada escondida as funções de ativação para os três neurônios são:"
   ]
  },
  {
   "cell_type": "code",
   "execution_count": 10,
   "metadata": {
    "collapsed": true
   },
   "outputs": [],
   "source": [
    "#Vamos definir a ativação da camada escondida em função da saída da primeira camada\n",
    "y21 = exp(y11 * w21)\n",
    "y22 = exp(y11 * w22)\n",
    "y23 = exp(y11 * w23)\n",
    "\n",
    "#Vamos calcular o valor de p (a saída do MLP)\n",
    "p1 = y21 / (y21 + y22 + y23)\n",
    "p2 = y22 / (y21 + y22 + y23)\n",
    "p3 = y23 / (y21 + y22 + y23)"
   ]
  },
  {
   "cell_type": "markdown",
   "metadata": {},
   "source": [
    "O calculo do valor do gradient descent é dado pela formula $w = w_{old} - \\alpha * \\frac{df}{dw_{old}}$"
   ]
  },
  {
   "cell_type": "code",
   "execution_count": 11,
   "metadata": {
    "collapsed": false
   },
   "outputs": [],
   "source": [
    "w11_new = w11 - alpha * y11.diff(w11)\n",
    "w21_new = w21 - alpha * p1.diff(w21)\n",
    "w22_new = w22 - alpha * p2.diff(w22)\n",
    "w23_new = w23 - alpha * p3.diff(w23)"
   ]
  },
  {
   "cell_type": "code",
   "execution_count": 12,
   "metadata": {
    "collapsed": false
   },
   "outputs": [
    {
     "data": {
      "text/latex": [
       "$$- \\alpha x_{0} \\left(- \\tanh^{2}{\\left (w^{1}_{1} x_{0} \\right )} + 1\\right) + w^{1}_{1}$$"
      ],
      "text/plain": [
       "            ⎛      2            ⎞      \n",
       "- \\alpha⋅x₀⋅⎝- tanh (w¹₁⋅x₀) + 1⎠ + w¹₁"
      ]
     },
     "metadata": {},
     "output_type": "display_data"
    },
    {
     "data": {
      "text/latex": [
       "$$- \\alpha \\left(\\frac{e^{w^{1}_{2} \\tanh{\\left (w^{1}_{1} x_{0} \\right )}} \\tanh{\\left (w^{1}_{1} x_{0} \\right )}}{e^{w^{1}_{2} \\tanh{\\left (w^{1}_{1} x_{0} \\right )}} + e^{w^{2}_{2} \\tanh{\\left (w^{1}_{1} x_{0} \\right )}} + e^{w^{3}_{2} \\tanh{\\left (w^{1}_{1} x_{0} \\right )}}} - \\frac{e^{2 w^{1}_{2} \\tanh{\\left (w^{1}_{1} x_{0} \\right )}} \\tanh{\\left (w^{1}_{1} x_{0} \\right )}}{\\left(e^{w^{1}_{2} \\tanh{\\left (w^{1}_{1} x_{0} \\right )}} + e^{w^{2}_{2} \\tanh{\\left (w^{1}_{1} x_{0} \\right )}} + e^{w^{3}_{2} \\tanh{\\left (w^{1}_{1} x_{0} \\right )}}\\right)^{2}}\\right) + w^{1}_{2}$$"
      ],
      "text/plain": [
       "         ⎛               w¹₂⋅tanh(w¹₁⋅x₀)                                     \n",
       "         ⎜              ℯ                ⋅tanh(w¹₁⋅x₀)                        \n",
       "- \\alpha⋅⎜───────────────────────────────────────────────────────── - ────────\n",
       "         ⎜ w¹₂⋅tanh(w¹₁⋅x₀)    w²₂⋅tanh(w¹₁⋅x₀)    w³₂⋅tanh(w¹₁⋅x₀)           \n",
       "         ⎜ℯ                 + ℯ                 + ℯ                   ⎛ w¹₂⋅ta\n",
       "         ⎝                                                            ⎝ℯ      \n",
       "\n",
       "       2⋅w¹₂⋅tanh(w¹₁⋅x₀)                           ⎞      \n",
       "      ℯ                  ⋅tanh(w¹₁⋅x₀)              ⎟      \n",
       "────────────────────────────────────────────────────⎟ + w¹₂\n",
       "                                                   2⎟      \n",
       "nh(w¹₁⋅x₀)    w²₂⋅tanh(w¹₁⋅x₀)    w³₂⋅tanh(w¹₁⋅x₀)⎞ ⎟      \n",
       "           + ℯ                 + ℯ                ⎠ ⎠      "
      ]
     },
     "metadata": {},
     "output_type": "display_data"
    },
    {
     "data": {
      "text/latex": [
       "$$- \\alpha \\left(\\frac{e^{w^{2}_{2} \\tanh{\\left (w^{1}_{1} x_{0} \\right )}} \\tanh{\\left (w^{1}_{1} x_{0} \\right )}}{e^{w^{1}_{2} \\tanh{\\left (w^{1}_{1} x_{0} \\right )}} + e^{w^{2}_{2} \\tanh{\\left (w^{1}_{1} x_{0} \\right )}} + e^{w^{3}_{2} \\tanh{\\left (w^{1}_{1} x_{0} \\right )}}} - \\frac{e^{2 w^{2}_{2} \\tanh{\\left (w^{1}_{1} x_{0} \\right )}} \\tanh{\\left (w^{1}_{1} x_{0} \\right )}}{\\left(e^{w^{1}_{2} \\tanh{\\left (w^{1}_{1} x_{0} \\right )}} + e^{w^{2}_{2} \\tanh{\\left (w^{1}_{1} x_{0} \\right )}} + e^{w^{3}_{2} \\tanh{\\left (w^{1}_{1} x_{0} \\right )}}\\right)^{2}}\\right) + w^{2}_{2}$$"
      ],
      "text/plain": [
       "         ⎛               w²₂⋅tanh(w¹₁⋅x₀)                                     \n",
       "         ⎜              ℯ                ⋅tanh(w¹₁⋅x₀)                        \n",
       "- \\alpha⋅⎜───────────────────────────────────────────────────────── - ────────\n",
       "         ⎜ w¹₂⋅tanh(w¹₁⋅x₀)    w²₂⋅tanh(w¹₁⋅x₀)    w³₂⋅tanh(w¹₁⋅x₀)           \n",
       "         ⎜ℯ                 + ℯ                 + ℯ                   ⎛ w¹₂⋅ta\n",
       "         ⎝                                                            ⎝ℯ      \n",
       "\n",
       "       2⋅w²₂⋅tanh(w¹₁⋅x₀)                           ⎞      \n",
       "      ℯ                  ⋅tanh(w¹₁⋅x₀)              ⎟      \n",
       "────────────────────────────────────────────────────⎟ + w²₂\n",
       "                                                   2⎟      \n",
       "nh(w¹₁⋅x₀)    w²₂⋅tanh(w¹₁⋅x₀)    w³₂⋅tanh(w¹₁⋅x₀)⎞ ⎟      \n",
       "           + ℯ                 + ℯ                ⎠ ⎠      "
      ]
     },
     "metadata": {},
     "output_type": "display_data"
    },
    {
     "data": {
      "text/latex": [
       "$$- \\alpha \\left(\\frac{e^{w^{3}_{2} \\tanh{\\left (w^{1}_{1} x_{0} \\right )}} \\tanh{\\left (w^{1}_{1} x_{0} \\right )}}{e^{w^{1}_{2} \\tanh{\\left (w^{1}_{1} x_{0} \\right )}} + e^{w^{2}_{2} \\tanh{\\left (w^{1}_{1} x_{0} \\right )}} + e^{w^{3}_{2} \\tanh{\\left (w^{1}_{1} x_{0} \\right )}}} - \\frac{e^{2 w^{3}_{2} \\tanh{\\left (w^{1}_{1} x_{0} \\right )}} \\tanh{\\left (w^{1}_{1} x_{0} \\right )}}{\\left(e^{w^{1}_{2} \\tanh{\\left (w^{1}_{1} x_{0} \\right )}} + e^{w^{2}_{2} \\tanh{\\left (w^{1}_{1} x_{0} \\right )}} + e^{w^{3}_{2} \\tanh{\\left (w^{1}_{1} x_{0} \\right )}}\\right)^{2}}\\right) + w^{3}_{2}$$"
      ],
      "text/plain": [
       "         ⎛               w³₂⋅tanh(w¹₁⋅x₀)                                     \n",
       "         ⎜              ℯ                ⋅tanh(w¹₁⋅x₀)                        \n",
       "- \\alpha⋅⎜───────────────────────────────────────────────────────── - ────────\n",
       "         ⎜ w¹₂⋅tanh(w¹₁⋅x₀)    w²₂⋅tanh(w¹₁⋅x₀)    w³₂⋅tanh(w¹₁⋅x₀)           \n",
       "         ⎜ℯ                 + ℯ                 + ℯ                   ⎛ w¹₂⋅ta\n",
       "         ⎝                                                            ⎝ℯ      \n",
       "\n",
       "       2⋅w³₂⋅tanh(w¹₁⋅x₀)                           ⎞      \n",
       "      ℯ                  ⋅tanh(w¹₁⋅x₀)              ⎟      \n",
       "────────────────────────────────────────────────────⎟ + w³₂\n",
       "                                                   2⎟      \n",
       "nh(w¹₁⋅x₀)    w²₂⋅tanh(w¹₁⋅x₀)    w³₂⋅tanh(w¹₁⋅x₀)⎞ ⎟      \n",
       "           + ℯ                 + ℯ                ⎠ ⎠      "
      ]
     },
     "metadata": {},
     "output_type": "display_data"
    }
   ],
   "source": [
    "display(w11_new, w21_new, w22_new, w23_new)"
   ]
  },
  {
   "cell_type": "markdown",
   "metadata": {},
   "source": [
    "#Questão 8"
   ]
  },
  {
   "cell_type": "markdown",
   "metadata": {},
   "source": [
    "Para esse caso usaremos um único perceptron com função de ativação sendo a tangente hiperbolica, de tal modo que, o resultado de saída será 1 para a classe 1, e -1 para a classe 2. E inicareos o peso com neurônio como sendo 0."
   ]
  },
  {
   "cell_type": "code",
   "execution_count": 233,
   "metadata": {
    "collapsed": false
   },
   "outputs": [
    {
     "data": {
      "text/latex": [
       "$$act(x) = \\tanh{\\left (w x \\right )}$$"
      ],
      "text/plain": [
       "<IPython.core.display.Math object>"
      ]
     },
     "metadata": {},
     "output_type": "display_data"
    },
    {
     "data": {
      "text/latex": [
       "$$J(x) = s - \\tanh{\\left (w x \\right )}$$"
      ],
      "text/plain": [
       "<IPython.core.display.Math object>"
      ]
     },
     "metadata": {},
     "output_type": "display_data"
    }
   ],
   "source": [
    "from random import shuffle\n",
    "#Vetores de entrada e saída\n",
    "entrada = [ -2, -1, 2.5, -1.8, 3.5, 1.5, 2.1, 3.8]\n",
    "saida = [ 1, 1, 1, 1, 0, 0, 0, 0]\n",
    "\n",
    "train = list(zip(entrada, saida))\n",
    "\n",
    "#Funcao de ativação\n",
    "x, w, s = symbols('x w s')\n",
    "act = tanh(x * w)\n",
    "display(Math(r'act(x) = ' + latex(act)))\n",
    "\n",
    "#De forma que a a função de custo (MSE) é\n",
    "cost = s - act\n",
    "display(Math(r'J(x) = ' + latex(cost)))"
   ]
  },
  {
   "cell_type": "markdown",
   "metadata": {},
   "source": [
    "Conforme vimos no exemplo anterior o processo de atualização, usando o gradient descent, é dado por $w = w_{old} + \\alpha * \\frac{df}{dw_{old}}$, de forma que temos:"
   ]
  },
  {
   "cell_type": "code",
   "execution_count": 237,
   "metadata": {
    "collapsed": false
   },
   "outputs": [
    {
     "data": {
      "text/latex": [
       "$$w_{novo} = - \\alpha \\sum_{x=1}^{n} - x \\left(- \\tanh^{2}{\\left (w x \\right )} + 1\\right) + w$$"
      ],
      "text/plain": [
       "<IPython.core.display.Math object>"
      ]
     },
     "metadata": {},
     "output_type": "display_data"
    }
   ],
   "source": [
    "from sympy.mpmath import nsum\n",
    "y, nm, alpha = symbols('y n \\\\alpha')\n",
    "#Calcue a derivada da funcao de costo em funcao de w (usada no gradient descent)\n",
    "dCost = cost.diff(w)\n",
    "w_novo = w - alpha * summation(dCost, (x, 1, n))\n",
    "\n",
    "display(Math(r'w_{novo} = ' + latex(w_novo)))"
   ]
  },
  {
   "cell_type": "markdown",
   "metadata": {},
   "source": [
    "Inicialmente devemo então proceder interactivamente para que possamos calcular o valor final w para treinarmos o neurônio. Nesse caso vamos iniciar o valores de $w = 5$ e $\\alpha = 0.5$."
   ]
  },
  {
   "cell_type": "code",
   "execution_count": 242,
   "metadata": {
    "collapsed": false
   },
   "outputs": [
    {
     "name": "stdout",
     "output_type": "stream",
     "text": [
      "summ = -0.63316\n",
      "w = 0.81658\n",
      "summ = 0.23984\n",
      "w = 0.69666\n",
      "summ = 0.11299\n",
      "w = 0.64016\n",
      "summ = -0.00842\n",
      "w = 0.64437\n",
      "summ = 0.00253\n",
      "w = 0.64311\n",
      "summ = -0.00072\n",
      "w = 0.64347\n"
     ]
    }
   ],
   "source": [
    "#Valor inicial de W\n",
    "w_ = 0.5\n",
    "#Taxa de aprendizado\n",
    "alpha = 0.5\n",
    "#Inicie summ com um valor diferente de zero para ele passar pelo primeir0 loop\n",
    "summ = 0.1\n",
    "while abs(summ) > 0.001:\n",
    "    summ = 0\n",
    "    #Pegue todos os elementos de treinamento e verifique os valores obtidos\n",
    "    for x_, y_ in train:\n",
    "        #Verifque aqueles que estao classificados errado\n",
    "        #E comece a calcular o somatorio(conforme equação acima)\n",
    "        if act.subs(x, x_).subs(w, w_) != y_:\n",
    "            summ += dCost.subs(w, w_).subs(x, x_).subs(y, y_).doit()            \n",
    "    #Calcule o novo valor de w\n",
    "    if (summ != 0):\n",
    "        w_ = w_ - alpha * summ\n",
    "        print(\"summ = {:.5f}\".format(summ))\n",
    "        print(\"w = {:.5f}\".format( w_))"
   ]
  },
  {
   "cell_type": "markdown",
   "metadata": {},
   "source": [
    "Dessa forma, temos que a a função usada para descobrir a classe qualquer novo elemento x é dada por:"
   ]
  },
  {
   "cell_type": "code",
   "execution_count": 228,
   "metadata": {
    "collapsed": false
   },
   "outputs": [
    {
     "data": {
      "text/latex": [
       "$$act = \\tanh{\\left (0.643470999123158 x \\right )}$$"
      ],
      "text/plain": [
       "<IPython.core.display.Math object>"
      ]
     },
     "metadata": {},
     "output_type": "display_data"
    }
   ],
   "source": [
    "display(Math(r'act = ' + latex(act.subs(w, w_))))"
   ]
  },
  {
   "cell_type": "markdown",
   "metadata": {},
   "source": [
    "#Questão 9"
   ]
  },
  {
   "cell_type": "markdown",
   "metadata": {},
   "source": [
    "Calculo da máxima entropia de cada um dos elementos, conforme eq 2.80 de Theodoris (pg. 43)."
   ]
  },
  {
   "cell_type": "code",
   "execution_count": 322,
   "metadata": {
    "collapsed": false
   },
   "outputs": [
    {
     "name": "stdout",
     "output_type": "stream",
     "text": [
      "Impurity original: 0.9182958340544896\n",
      "------\n",
      "Criterio: instrucao\n",
      "Impurity0 = 1.00000. Impurity1 = 0.72193\n",
      "Delta criterio = -2.6311747367427625\n",
      "------\n",
      "Criterio: salario\n",
      "Impurity0 = 0.72193. Impurity1 = 1.00000\n",
      "Delta criterio = -2.6311747367427625\n",
      "------\n",
      "Criterio: casa\n",
      "Impurity0 = 0.97095. Impurity1 = -0.00000\n",
      "Delta criterio = -0.829415235963914\n",
      "------\n",
      "Criterio: sexo\n",
      "Impurity0 = -0.00000. Impurity1 = 1.00000\n",
      "Delta criterio = -0.5817041659455104\n",
      "------\n"
     ]
    }
   ],
   "source": [
    "#Codificacoes:\n",
    "#universitario = 1, segundo grau =0\n",
    "#salario 7k = 1, salario 2k = 0\n",
    "#casa propria sim = 1, casa propria nao = 0\n",
    "#sexo masculino = 1, sexo feminino = 0\n",
    "#Emprestimo no prazo sim = 1, emprestimo no prazo nao = 0\n",
    "dados = [[1, 1, 1, 1, 1],\n",
    "         [0, np.nan, 1, 1, 1],\n",
    "         [0, 0, 0, 0, 1],\n",
    "         [1, 1, 0, 1, 0],\n",
    "         [1, 1, 1, 1, 1],\n",
    "         [1, 0, 1, 0, 1],\n",
    "         [0, 1, 0, 1, 0],\n",
    "         [1, 0, np.nan, 0, 1],\n",
    "         [0, 0, 0, 1, 0]]\n",
    "\n",
    "df = pd.DataFrame(dados, columns=['instrucao', 'salario', 'casa', 'sexo', 'paga'])\n",
    "\n",
    "df['salario'] = df['salario'].fillna(df['salario'].mode()[0])\n",
    "df['casa'] = df['casa'].fillna(df['casa'].mode()[0])\n",
    "\n",
    "def entropy(p1, p2):\n",
    "    if p2 != 0:\n",
    "        p2 = p2 * np.log2(p2)\n",
    "    if p1 != 0:\n",
    "        p1 = p1 * np.log2(p1) \n",
    "    return - (p1 + p2)\n",
    "\n",
    "def impurity(df):    \n",
    "    #Define a probabilidade inicial das classes como 0\n",
    "    p1 = p2 = 0\n",
    "    #Calcule as probabilidades\n",
    "    res = df['paga'].value_counts()/ df.shape[0]\n",
    "    #Pode ser que alguma classe não apareça, vamos checar...    \n",
    "    if 0 in res:\n",
    "        p1 = res[0]\n",
    "    if 1 in res:\n",
    "        p2 = res[1]    \n",
    "    return entropy(p1, p2)\n",
    "\n",
    "def impurity_delta(df, split):    \n",
    "    df0 = df[df[split] == 0]    \n",
    "    df1 = df[df[split] == 1]    \n",
    "    ori = impurity(df)\n",
    "    imp0 = impurity(df0)    \n",
    "    imp1 = impurity(df1)\n",
    "    delta = ori - df.shape[0] * imp0 / df0.shape[0] - df.shape[0] * imp1 / df1.shape[0]     \n",
    "    return delta\n",
    "\n",
    "print(\"Impurity original: {}\".format(impurity(df)))\n",
    "print(\"------\")\n",
    "for col in ['instrucao', 'salario', 'casa', 'sexo']:\n",
    "    print(\"Criterio: {}\".format(col))\n",
    "    print(\"Impurity0 = {:.5f}. Impurity1 = {:.5f}\".format(impurity(df[df[col] == 0]), impurity(df[df[col] == 1])))\n",
    "    print(\"Delta criterio = {}\".format(impurity_delta(df, col)))\n",
    "    print(\"------\")\n"
   ]
  },
  {
   "cell_type": "markdown",
   "metadata": {},
   "source": [
    "#Questão 10"
   ]
  },
  {
   "cell_type": "markdown",
   "metadata": {},
   "source": [
    "#Questão 11"
   ]
  },
  {
   "cell_type": "markdown",
   "metadata": {},
   "source": [
    "#Questão 12"
   ]
  },
  {
   "cell_type": "markdown",
   "metadata": {},
   "source": [
    "#Questão 13"
   ]
  },
  {
   "cell_type": "markdown",
   "metadata": {},
   "source": [
    "#Questão 14"
   ]
  },
  {
   "cell_type": "markdown",
   "metadata": {},
   "source": [
    "#Questão 15"
   ]
  },
  {
   "cell_type": "markdown",
   "metadata": {},
   "source": [
    "#Questão 16"
   ]
  }
 ],
 "metadata": {
  "kernelspec": {
   "display_name": "Python 3",
   "language": "python",
   "name": "python3"
  },
  "language_info": {
   "codemirror_mode": {
    "name": "ipython",
    "version": 3
   },
   "file_extension": ".py",
   "mimetype": "text/x-python",
   "name": "python",
   "nbconvert_exporter": "python",
   "pygments_lexer": "ipython3",
   "version": "3.4.3"
  }
 },
 "nbformat": 4,
 "nbformat_minor": 0
}
